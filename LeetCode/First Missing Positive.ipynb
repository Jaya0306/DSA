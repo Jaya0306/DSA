{
 "cells": [
  {
   "cell_type": "markdown",
   "id": "bfd8fd6e-4389-42df-8bd1-0958333a371f",
   "metadata": {},
   "source": [
    "Given an unsorted integer array nums. Return the smallest positive integer that is not present in nums.\n",
    "\n",
    "You must implement an algorithm that runs in O(n) time and uses O(1) auxiliary space.\n",
    "\n",
    "Example 1:<br>\n",
    "Input: nums = [1,2,0]<br>\n",
    "Output: 3<br>\n",
    "Explanation: The numbers in the range [1,2] are all in the array.\n",
    "\n",
    "Example 2:<br>\n",
    "Input: nums = [3,4,-1,1]<br>\n",
    "Output: 2<br>\n",
    "Explanation: 1 is in the array but 2 is missing.\n",
    "\n",
    "Example 3:<br>\n",
    "Input: nums = [7,8,9,11,12]<br>\n",
    "Output: 1<br>\n",
    "Explanation: The smallest positive integer 1 is missing."
   ]
  },
  {
   "cell_type": "code",
   "execution_count": 1,
   "id": "8b79bc8f-68c1-4b42-92b2-b9f58e51c35c",
   "metadata": {},
   "outputs": [],
   "source": [
    "def firstMissingPositive(nums):\n",
    "    n = len(nums)\n",
    "\n",
    "    for i in range(n):\n",
    "        while 1 <= nums[i] <= n and nums[i] != nums[nums[i] - 1]:\n",
    "            nums[nums[i] - 1], nums[i] = nums[i], nums[nums[i] - 1]\n",
    "\n",
    "    for i in range(n):\n",
    "        if nums[i] != i + 1:\n",
    "            return i + 1\n",
    "\n",
    "    return n + 1"
   ]
  },
  {
   "cell_type": "code",
   "execution_count": 3,
   "id": "c0824f33-76b5-46f1-a081-d56073d2db5b",
   "metadata": {},
   "outputs": [
    {
     "name": "stdout",
     "output_type": "stream",
     "text": [
      "3\n",
      "2\n",
      "1\n"
     ]
    }
   ],
   "source": [
    "# Test cases\n",
    "print(firstMissingPositive([1, 2, 0]))       # Output: 3\n",
    "print(firstMissingPositive([3, 4, -1, 1]))   # Output: 2\n",
    "print(firstMissingPositive([7, 8, 9, 11, 12])) # Output: 1"
   ]
  },
  {
   "cell_type": "markdown",
   "id": "ceb42b84-e9cd-47d1-848c-ce40a93293b1",
   "metadata": {},
   "source": [
    "* while keeps swapping until the correct element is at the current index.\n",
    "* if would only check once, potentially skipping needed swaps."
   ]
  }
 ],
 "metadata": {
  "kernelspec": {
   "display_name": "Python [conda env:base] *",
   "language": "python",
   "name": "conda-base-py"
  },
  "language_info": {
   "codemirror_mode": {
    "name": "ipython",
    "version": 3
   },
   "file_extension": ".py",
   "mimetype": "text/x-python",
   "name": "python",
   "nbconvert_exporter": "python",
   "pygments_lexer": "ipython3",
   "version": "3.12.7"
  }
 },
 "nbformat": 4,
 "nbformat_minor": 5
}
