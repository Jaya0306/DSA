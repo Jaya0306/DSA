{
 "cells": [
  {
   "cell_type": "markdown",
   "id": "70601e11-01eb-4094-9a34-e954f566cbd9",
   "metadata": {},
   "source": [
    "## Given an integer array of size n, find all elements that appear more than [n/3] times.\n",
    "\n",
    "Example 1:<br>\n",
    "Input: nums = [3,2,3]<br>\n",
    "Output: [3]\n",
    "\n",
    "Example 2:<br>\n",
    "Input: nums = [1,2]<br>\n",
    "Output: [1,2]"
   ]
  },
  {
   "cell_type": "markdown",
   "id": "ff12ceb0-3e6e-4030-8f8f-04880d0e7f31",
   "metadata": {},
   "source": [
    "### Hash Map (O(n) time, O(n) space)"
   ]
  },
  {
   "cell_type": "code",
   "execution_count": 1,
   "id": "0e49155f-a1bb-47d7-90a4-4b7b7a7c4fcc",
   "metadata": {},
   "outputs": [],
   "source": [
    "from collections import Counter\n",
    "\n",
    "def majorityElement(nums):\n",
    "    n = len(nums)\n",
    "    count = Counter(nums)\n",
    "    return [key for key, value in count.items() if value > n//3]"
   ]
  },
  {
   "cell_type": "code",
   "execution_count": 3,
   "id": "84a2f87c-66f9-4ac3-bdd2-881ff80e0755",
   "metadata": {},
   "outputs": [
    {
     "name": "stdout",
     "output_type": "stream",
     "text": [
      "[3]\n",
      "[1]\n",
      "[1, 2]\n"
     ]
    }
   ],
   "source": [
    "# Test Cases\n",
    "print(majorityElement([3,2,3]))    # Output: [3]\n",
    "print(majorityElement([1]))        # Output: [1]\n",
    "print(majorityElement([1,2]))      # Output: [1,2]"
   ]
  },
  {
   "cell_type": "markdown",
   "id": "cdbf89e0-61ae-4c09-a5d4-6af0121e7da9",
   "metadata": {},
   "source": [
    "### Sorting (O(n log n) time, O(1) space)"
   ]
  },
  {
   "cell_type": "code",
   "execution_count": 5,
   "id": "f89415df-d748-47d9-a8aa-00340703e6f8",
   "metadata": {},
   "outputs": [],
   "source": [
    "def majorityElement_1(nums):\n",
    "    nums.sort()\n",
    "    n = len(nums)\n",
    "    candidate = count = 0\n",
    "    result = []\n",
    "\n",
    "    for num in nums:\n",
    "        if candidate == num:\n",
    "            count += 1\n",
    "        else:\n",
    "            count = 1\n",
    "            candidate = num\n",
    "\n",
    "        if count > n//3 and candidate not in result:\n",
    "            result.append(num)\n",
    "    return result"
   ]
  },
  {
   "cell_type": "code",
   "execution_count": 7,
   "id": "a97e2ce3-e256-439c-ad77-753c4b97d01c",
   "metadata": {},
   "outputs": [
    {
     "name": "stdout",
     "output_type": "stream",
     "text": [
      "[3]\n",
      "[1]\n",
      "[1, 2]\n"
     ]
    }
   ],
   "source": [
    "# Test Cases\n",
    "print(majorityElement_1([3,2,3]))    # Output: [3]\n",
    "print(majorityElement_1([1]))        # Output: [1]\n",
    "print(majorityElement_1([1,2]))      # Output: [1,2]"
   ]
  }
 ],
 "metadata": {
  "kernelspec": {
   "display_name": "Python [conda env:base] *",
   "language": "python",
   "name": "conda-base-py"
  },
  "language_info": {
   "codemirror_mode": {
    "name": "ipython",
    "version": 3
   },
   "file_extension": ".py",
   "mimetype": "text/x-python",
   "name": "python",
   "nbconvert_exporter": "python",
   "pygments_lexer": "ipython3",
   "version": "3.12.7"
  }
 },
 "nbformat": 4,
 "nbformat_minor": 5
}
