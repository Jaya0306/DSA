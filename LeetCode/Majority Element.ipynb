{
 "cells": [
  {
   "cell_type": "markdown",
   "id": "957cbb85-378a-49b9-958c-2bf5d58b91b3",
   "metadata": {},
   "source": [
    "## Given an array nums of size n, return the majority element.\n",
    "\n",
    "The majority element is the element that appears more than [n / 2] times. You may assume that the majority element always exists in the array.\n",
    "\n",
    "Example 1:<br>\n",
    "Input: nums = [3,2,3]<br>\n",
    "Output: 3\n",
    "\n",
    "Follow-up: Could you solve the problem in linear time and in O(1) space?"
   ]
  },
  {
   "cell_type": "markdown",
   "id": "8c5d0190-2973-47f7-bb7b-2da8f434cf61",
   "metadata": {},
   "source": [
    "### Counter (Hash Map) Approach (O(n) time, O(n) space)"
   ]
  },
  {
   "cell_type": "code",
   "execution_count": 3,
   "id": "e16a05df-3aa6-4b01-98ad-2a4f6c0cb3b6",
   "metadata": {},
   "outputs": [],
   "source": [
    "from collections import Counter\n",
    "\n",
    "def majorityElement(nums):\n",
    "    count = Counter(nums)\n",
    "    return max(count.keys(), key=count.get)"
   ]
  },
  {
   "cell_type": "code",
   "execution_count": 4,
   "id": "16cb6dc6-fb20-4de2-8ff4-ca01d237de31",
   "metadata": {},
   "outputs": [
    {
     "name": "stdout",
     "output_type": "stream",
     "text": [
      "3\n",
      "2\n"
     ]
    }
   ],
   "source": [
    "print(majorityElement([3, 2, 3]))  # Output: 3\n",
    "print(majorityElement([2, 2, 1, 1, 1, 2, 2]))  # Output: 2"
   ]
  },
  {
   "cell_type": "markdown",
   "id": "d9dbcd7e-11d6-49e5-ae38-9c832d1f95b3",
   "metadata": {},
   "source": [
    "### Boyer-Moore Voting Algorithm (O(n) time, O(1) space)"
   ]
  },
  {
   "cell_type": "code",
   "execution_count": 6,
   "id": "d3718b71-681f-4ec1-bff7-5e80dce905cb",
   "metadata": {},
   "outputs": [],
   "source": [
    "def majorityElement_1(nums):\n",
    "    candidate, count = None, 0\n",
    "\n",
    "    for num in nums:\n",
    "        if count == 0:\n",
    "            candidate = num\n",
    "        count += (1 if num == candidate else -1)\n",
    "    return candidate"
   ]
  },
  {
   "cell_type": "code",
   "execution_count": 7,
   "id": "c08faad2-0d3a-403f-90f9-e97df0a21b8b",
   "metadata": {},
   "outputs": [
    {
     "name": "stdout",
     "output_type": "stream",
     "text": [
      "3\n",
      "2\n"
     ]
    }
   ],
   "source": [
    "print(majorityElement_1([3, 2, 3]))  # Output: 3\n",
    "print(majorityElement_1([2, 2, 1, 1, 1, 2, 2]))  # Output: 2"
   ]
  }
 ],
 "metadata": {
  "kernelspec": {
   "display_name": "Python [conda env:base] *",
   "language": "python",
   "name": "conda-base-py"
  },
  "language_info": {
   "codemirror_mode": {
    "name": "ipython",
    "version": 3
   },
   "file_extension": ".py",
   "mimetype": "text/x-python",
   "name": "python",
   "nbconvert_exporter": "python",
   "pygments_lexer": "ipython3",
   "version": "3.12.7"
  }
 },
 "nbformat": 4,
 "nbformat_minor": 5
}
