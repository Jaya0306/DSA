{
 "cells": [
  {
   "cell_type": "markdown",
   "id": "332f80d6-ab37-426b-897a-be5023fad7b8",
   "metadata": {},
   "source": [
    "You are given an integer array arr.\n",
    "\n",
    "We split arr into some number of chunks (i.e., partitions), and individually sort each chunk. After concatenating them, the result should equal the sorted array.\n",
    "\n",
    "Return the largest number of chunks we can make to sort the array.\n",
    "\n",
    "Example 1:<br>\n",
    "Input: arr = [5,4,3,2,1]<br>\n",
    "Output: 1<br>\n",
    "Explanation:<br>\n",
    "Splitting into two or more chunks will not return the required result.<br>\n",
    "For example, splitting into [5, 4], [3, 2, 1] will result in [4, 5, 1, 2, 3], which isn't sorted.\n",
    "\n",
    "Example 2:<br>\n",
    "Input: arr = [2,1,3,4,4]<br>\n",
    "Output: 4<br>\n",
    "Explanation:<br>\n",
    "We can split into two chunks, such as [2, 1], [3, 4, 4].<br>\n",
    "However, splitting into [2, 1], [3], [4], [4] is the highest number of chunks possible."
   ]
  },
  {
   "cell_type": "code",
   "execution_count": 1,
   "id": "700c1d09-78ae-48bc-bd06-694355dfc00e",
   "metadata": {},
   "outputs": [],
   "source": [
    "def maxChunksToSorted(arr):\n",
    "    stack = []\n",
    "\n",
    "    for num in arr:\n",
    "        if not stack or num > stack[-1]:\n",
    "            stack.append(num)\n",
    "        else:\n",
    "            max_so_far = stack[-1]\n",
    "            while stack and stack[-1] > num:\n",
    "                stack.pop()\n",
    "            stack.append(max_so_far)\n",
    "    return len(stack)"
   ]
  },
  {
   "cell_type": "code",
   "execution_count": 3,
   "id": "90e49dce-562d-412f-9002-e0a9ca9a7ade",
   "metadata": {},
   "outputs": [
    {
     "name": "stdout",
     "output_type": "stream",
     "text": [
      "1\n",
      "4\n",
      "4\n",
      "3\n"
     ]
    }
   ],
   "source": [
    "# Test cases\n",
    "print(maxChunksToSorted([5, 4, 3, 2, 1]))  # Output: 1\n",
    "print(maxChunksToSorted([2, 1, 3, 4, 4]))  # Output: 4\n",
    "print(maxChunksToSorted([1, 0, 2, 3, 4]))  # Output: 4\n",
    "print(maxChunksToSorted([1, 2, 0, 3, 4]))  # Output: 3"
   ]
  },
  {
   "cell_type": "markdown",
   "id": "33369c23-256a-4d0f-9f63-ae1730bbbafd",
   "metadata": {},
   "source": [
    "| Feature                | Max Chunks To Make Sorted          |Max Chunks To Make Sorted II      |\n",
    "|------------------------|------------------------------------|------------------------------------|\n",
    "| **Input**               | Permutation of integers 0 to n-1   | Any array of integers (duplicates allowed) |\n",
    "| **Duplicates allowed?** | ❌ No                               | ✅ Yes                             |\n",
    "| **Key condition for a chunk** | max-so-far == index              | Merge if future element is smaller than max-so-far |\n",
    "| **Algorithm used**      | Greedy max-tracking                | Monotonic stack                   |\n",
    "| **Time complexity**     | O(n)                               | O(n)                              |\n",
    "| **Space complexity**    | O(1)                               | O(n)                              |\n",
    "| **Example**             | [1, 0, 2, 3, 4] → 4 chunks         | [2, 1, 3, 4, 4] → 4 chunks         |"
   ]
  }
 ],
 "metadata": {
  "kernelspec": {
   "display_name": "Python [conda env:base] *",
   "language": "python",
   "name": "conda-base-py"
  },
  "language_info": {
   "codemirror_mode": {
    "name": "ipython",
    "version": 3
   },
   "file_extension": ".py",
   "mimetype": "text/x-python",
   "name": "python",
   "nbconvert_exporter": "python",
   "pygments_lexer": "ipython3",
   "version": "3.12.7"
  }
 },
 "nbformat": 4,
 "nbformat_minor": 5
}
