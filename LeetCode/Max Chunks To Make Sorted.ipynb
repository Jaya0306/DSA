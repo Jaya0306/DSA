{
 "cells": [
  {
   "cell_type": "markdown",
   "id": "6d648fd6-9481-4079-b018-0bc71b2aa87e",
   "metadata": {},
   "source": [
    "You are given an integer array arr of length n that represents a permutation of the integers in the range [0, n - 1].\n",
    "\n",
    "We split arr into some number of chunks (i.e., partitions), and individually sort each chunk. After concatenating them, the result should equal the sorted array.\n",
    "\n",
    "Return the largest number of chunks we can make to sort the array.\n",
    "\n",
    "Example 1:<br>\n",
    "Input: arr = [4,3,2,1,0]<br>\n",
    "Output: 1<br>\n",
    "Explanation:<br>\n",
    "Splitting into two or more chunks will not return the required result.<br>\n",
    "For example, splitting into [4, 3], [2, 1, 0] will result in [3, 4, 0, 1, 2], which isn't sorted.\n",
    "\n",
    "Example 2:<br>\n",
    "Input: arr = [1,0,2,3,4]<br>\n",
    "Output: 4<br>\n",
    "Explanation:<br>\n",
    "We can split into two chunks, such as [1, 0], [2, 3, 4].<br>\n",
    "However, splitting into [1, 0], [2], [3], [4] is the highest number of chunks possible.\n",
    " \n",
    "\n",
    "Constraints:<br>\n",
    "n == arr.length<br>\n",
    "1 <= n <= 10<br>\n",
    "0 <= arr[i] < n<br>\n",
    "All the elements of arr are unique."
   ]
  },
  {
   "cell_type": "markdown",
   "id": "47f0c21b-c876-4936-bdf6-c7b9207e90de",
   "metadata": {},
   "source": [
    "#### Solution 1: Greedy + Max Tracking"
   ]
  },
  {
   "cell_type": "code",
   "execution_count": 1,
   "id": "f6fdea33-ed32-470e-b04c-26e8975308d1",
   "metadata": {},
   "outputs": [],
   "source": [
    "def maxChunksToSorted(arr):\n",
    "    max_value = chunks = 0\n",
    "    for i, num in enumerate(arr):\n",
    "        max_value = max(max_value, num)\n",
    "        if max_value == i:\n",
    "            chunks += 1\n",
    "    return chunks"
   ]
  },
  {
   "cell_type": "code",
   "execution_count": 3,
   "id": "b3089a3f-2b7e-447e-83a8-34473b4da3d4",
   "metadata": {},
   "outputs": [
    {
     "name": "stdout",
     "output_type": "stream",
     "text": [
      "1\n",
      "4\n"
     ]
    }
   ],
   "source": [
    "# Test cases\n",
    "print(maxChunksToSorted([4, 3, 2, 1, 0]))  # Output: 1\n",
    "print(maxChunksToSorted([1, 0, 2, 3, 4]))  # Output: 4"
   ]
  },
  {
   "cell_type": "markdown",
   "id": "f9bfae92-8dda-4378-82fd-86d24119f9ce",
   "metadata": {},
   "source": [
    "Time Complexity: O(n)<br>\n",
    "Space Complexity: O(1)"
   ]
  },
  {
   "cell_type": "markdown",
   "id": "5f943a4d-f638-4518-ab54-0a5166642450",
   "metadata": {},
   "source": [
    "#### Solution 2: Using Monotonic Stack"
   ]
  },
  {
   "cell_type": "code",
   "execution_count": 5,
   "id": "25432442-0c98-4597-bc96-853a76535c4f",
   "metadata": {},
   "outputs": [],
   "source": [
    "def maxChunksToSorted_1(arr):\n",
    "    stack = []\n",
    "    for num in arr:\n",
    "        if not stack or num >= stack[-1]:\n",
    "            stack.append(num)\n",
    "        else:\n",
    "            max_stack = stack.pop()\n",
    "            while stack and stack[-1] > num:\n",
    "                stack.pop()\n",
    "            stack.append(max_stack)\n",
    "    return len(stack)"
   ]
  },
  {
   "cell_type": "code",
   "execution_count": 7,
   "id": "cabb1a91-32d0-422e-a417-4f91616f3cc7",
   "metadata": {},
   "outputs": [
    {
     "name": "stdout",
     "output_type": "stream",
     "text": [
      "1\n",
      "4\n"
     ]
    }
   ],
   "source": [
    "# Test cases\n",
    "print(maxChunksToSorted_1([4, 3, 2, 1, 0]))  # Output: 1\n",
    "print(maxChunksToSorted_1([1, 0, 2, 3, 4]))  # Output: 4"
   ]
  },
  {
   "cell_type": "markdown",
   "id": "dc07cbc6-a01e-43ca-a61f-c1da401de54c",
   "metadata": {},
   "source": [
    "Time Complexity: O(n)<br>\n",
    "Space Complexity: O(n)"
   ]
  }
 ],
 "metadata": {
  "kernelspec": {
   "display_name": "Python [conda env:base] *",
   "language": "python",
   "name": "conda-base-py"
  },
  "language_info": {
   "codemirror_mode": {
    "name": "ipython",
    "version": 3
   },
   "file_extension": ".py",
   "mimetype": "text/x-python",
   "name": "python",
   "nbconvert_exporter": "python",
   "pygments_lexer": "ipython3",
   "version": "3.12.7"
  }
 },
 "nbformat": 4,
 "nbformat_minor": 5
}
