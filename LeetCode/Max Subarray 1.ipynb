{
 "cells": [
  {
   "cell_type": "markdown",
   "id": "0decb360-9053-4e16-9d58-b0ec16a3fd69",
   "metadata": {},
   "source": [
    "## Given an integer array nums, find the subarray with the largest sum, and return its sum and subarray.\n",
    "    \n",
    "Example 1:<br>\n",
    "Input: nums = [-2,1,-3,4,-1,2,1,-5,4]<br>\n",
    "Output: 6<br>\n",
    "Explanation: The subarray [4,-1,2,1] and the largest sum 6."
   ]
  },
  {
   "cell_type": "markdown",
   "id": "dd05235c-a82b-4329-9152-f7ae61739c35",
   "metadata": {},
   "source": [
    "### Brute Force (O(n²), O(1)) - Works for small arrays"
   ]
  },
  {
   "cell_type": "code",
   "execution_count": 3,
   "id": "55ccfd52-be27-4464-9f8b-56951affab05",
   "metadata": {},
   "outputs": [],
   "source": [
    "def maxSubArray(nums):\n",
    "    n = len(nums)\n",
    "    max_sum = float('-inf')\n",
    "    sub_arr = []\n",
    "\n",
    "    for i in range(n):\n",
    "        current_sum = 0\n",
    "        for j in range(i,n):\n",
    "            current_sum += nums[j]\n",
    "            if current_sum > max_sum:\n",
    "                max_sum = current_sum\n",
    "                sub_arr = nums[i:j+1]\n",
    "    return max_sum, sub_arr"
   ]
  },
  {
   "cell_type": "code",
   "execution_count": 4,
   "id": "6e842151-17c7-40eb-a982-156a3cefb525",
   "metadata": {},
   "outputs": [
    {
     "name": "stdout",
     "output_type": "stream",
     "text": [
      "(6, [4, -1, 2, 1])\n"
     ]
    }
   ],
   "source": [
    "arr = [-2, 1, -3, 4, -1, 2, 1, -5, 4]\n",
    "print(maxSubArray(arr))"
   ]
  },
  {
   "cell_type": "markdown",
   "id": "149cd942-0e21-4529-8239-377206a27074",
   "metadata": {},
   "source": [
    "### Kadane’s Algorithm (O(n), O(1)) - Best for large arrays"
   ]
  },
  {
   "cell_type": "code",
   "execution_count": 6,
   "id": "3e773ccc-c9ee-4a32-906f-e3214bf6264f",
   "metadata": {},
   "outputs": [],
   "source": [
    "def maxSubArray_1(nums):\n",
    "    max_sum = float('-inf')\n",
    "    current_sum = 0\n",
    "    start = end = temp_start = 0\n",
    "\n",
    "    for i in range(len(nums)):\n",
    "        current_sum += nums[i]\n",
    "\n",
    "        if current_sum > max_sum:\n",
    "            max_sum = current_sum\n",
    "            start = temp_start\n",
    "            end = i\n",
    "\n",
    "        if current_sum < 0:\n",
    "            current_sum = 0\n",
    "            temp_start = i + 1\n",
    "\n",
    "    return max_sum, nums[start : end + 1]"
   ]
  },
  {
   "cell_type": "code",
   "execution_count": 7,
   "id": "ef08b4d1-46e3-423a-8ade-4a6aa2d823da",
   "metadata": {},
   "outputs": [
    {
     "name": "stdout",
     "output_type": "stream",
     "text": [
      "(6, [4, -1, 2, 1])\n"
     ]
    }
   ],
   "source": [
    "arr = [-2, 1, -3, 4, -1, 2, 1, -5, 4]\n",
    "print(maxSubArray_1(arr))"
   ]
  },
  {
   "cell_type": "markdown",
   "id": "713dce34-9296-40ef-ba06-4b43151e695d",
   "metadata": {},
   "source": [
    "### Divide & Conquer (O(n log n), O(log n)) - Useful for parallel processing"
   ]
  },
  {
   "cell_type": "code",
   "execution_count": 9,
   "id": "a698f6e0-206d-453a-8cfa-fc178b175e0a",
   "metadata": {},
   "outputs": [],
   "source": [
    "def maxCrossingSum(nums, left, mid, right):\n",
    "    left_sum = float('-inf')\n",
    "    temp_sum = 0\n",
    "    max_left = mid \n",
    "    \n",
    "    for i in range(mid, left-1, -1):\n",
    "        temp_sum += nums[i]\n",
    "        if temp_sum > left_sum:\n",
    "            left_sum = temp_sum\n",
    "            max_left = i\n",
    "\n",
    "    right_sum = float('-inf')\n",
    "    temp_sum = 0\n",
    "    max_right = mid + 1\n",
    "\n",
    "    for i in range(mid+1, right+1):\n",
    "        temp_sum += nums[i]\n",
    "        if temp_sum > right_sum:\n",
    "            right_sum = temp_sum\n",
    "            max_right = i\n",
    "\n",
    "    return left_sum+right_sum, nums[max_left:max_right]"
   ]
  },
  {
   "cell_type": "code",
   "execution_count": 10,
   "id": "c975fec2-d0f0-42ab-84b8-b3455680d3f1",
   "metadata": {},
   "outputs": [],
   "source": [
    "def maxSubArrayDivide(nums, left, right):\n",
    "    if left == right:\n",
    "        return nums[left], [nums[left]]\n",
    "\n",
    "    mid = (left + right) // 2\n",
    "\n",
    "    left_sum, left_sub_array = maxSubArrayDivide(nums, left, mid)\n",
    "    right_sum, right_sub_array = maxSubArrayDivide(nums, mid+1, right)\n",
    "    cross_sum, cross_sub_array = maxCrossingSum(nums, left, mid, right)\n",
    "\n",
    "    if left_sum >= right_sum and left_sum >= cross_sum:\n",
    "        return left_sum, left_sub_array\n",
    "    elif right_sum >= left_sum and right_sum >= cross_sum:\n",
    "        return right_sum, right_sub_array\n",
    "    else:\n",
    "        return cross_sum, cross_sub_array"
   ]
  },
  {
   "cell_type": "code",
   "execution_count": 11,
   "id": "cdf21abf-faaf-46eb-823c-f507949199a2",
   "metadata": {},
   "outputs": [],
   "source": [
    "def maxSubArray_2(nums):\n",
    "    return maxSubArrayDivide(nums, 0, len(nums)-1)"
   ]
  },
  {
   "cell_type": "code",
   "execution_count": 12,
   "id": "d18c7e26-8efe-4781-8947-a799d0960b40",
   "metadata": {},
   "outputs": [
    {
     "name": "stdout",
     "output_type": "stream",
     "text": [
      "(6, [4, -1, 2])\n"
     ]
    }
   ],
   "source": [
    "arr = [-2, 1, -3, 4, -1, 2, 1, -5, 4]\n",
    "print(maxSubArray_2(arr))"
   ]
  },
  {
   "cell_type": "markdown",
   "id": "5de7647b-06d8-4110-9fb6-4f6390abc3e6",
   "metadata": {},
   "source": [
    "### Dynamic Programming (O(n), O(n)) - Useful if tracking all subarrays"
   ]
  },
  {
   "cell_type": "code",
   "execution_count": 14,
   "id": "0c81e182-614d-452d-9101-7b5164226590",
   "metadata": {},
   "outputs": [],
   "source": [
    "def maxSubArray_3(nums):\n",
    "    n = len(nums)\n",
    "    max_sum = 0\n",
    "    dp = [0]*n\n",
    "    dp[0] = nums[0]\n",
    "    start = end = temp_start = 0\n",
    "\n",
    "    for i in range(1,n):\n",
    "        if nums[i] > dp[i-1] + nums[i]:\n",
    "            dp[i] = nums[i]\n",
    "            temp_start = i\n",
    "        else:\n",
    "            dp[i] = dp[i-1] + nums[i]\n",
    "\n",
    "        if dp[i] > max_sum:\n",
    "            max_sum = dp[i]\n",
    "            start = temp_start\n",
    "            end = i\n",
    "\n",
    "    return max_sum, nums[start:end+1]"
   ]
  },
  {
   "cell_type": "code",
   "execution_count": 15,
   "id": "088b0a97-3409-4bd8-a241-05839f90feea",
   "metadata": {},
   "outputs": [
    {
     "name": "stdout",
     "output_type": "stream",
     "text": [
      "(6, [4, -1, 2, 1])\n"
     ]
    }
   ],
   "source": [
    "arr = [-2, 1, -3, 4, -1, 2, 1, -5, 4]\n",
    "print(maxSubArray_3(arr))"
   ]
  },
  {
   "cell_type": "markdown",
   "id": "3cf3d68b-dcd3-47b9-9e9e-7dc42a0a2318",
   "metadata": {},
   "source": [
    "| Approach            | Time Complexity | Space Complexity | Best Use Case                        |\n",
    "|---------------------|---------------|----------------|-------------------------------------|\n",
    "| Kadane’s Algorithm | O(n)          | O(1)           | Best for large arrays (fastest)    |\n",
    "| Divide & Conquer   | O(n log n)    | O(log n)       | Useful for parallel processing     |\n",
    "| Brute Force        | O(n²)         | O(1)           | Works for small arrays            |\n",
    "| Dynamic Programming| O(n)          | O(n)           | Useful if tracking all subarrays  |"
   ]
  }
 ],
 "metadata": {
  "kernelspec": {
   "display_name": "Python [conda env:base] *",
   "language": "python",
   "name": "conda-base-py"
  },
  "language_info": {
   "codemirror_mode": {
    "name": "ipython",
    "version": 3
   },
   "file_extension": ".py",
   "mimetype": "text/x-python",
   "name": "python",
   "nbconvert_exporter": "python",
   "pygments_lexer": "ipython3",
   "version": "3.12.7"
  }
 },
 "nbformat": 4,
 "nbformat_minor": 5
}
