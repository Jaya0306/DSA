{
 "cells": [
  {
   "cell_type": "markdown",
   "id": "dfb5a5ad-5489-4acb-aefa-ad9030e617c0",
   "metadata": {},
   "source": [
    "## Given an integer array nums, find a subarray that has the largest product, and return the product.\n",
    "\n",
    "Example 1:<br>\n",
    "Input: nums = [2,3,-2,4]<br>\n",
    "Output: 6<br>\n",
    "Explanation: [2,3] has the largest product 6."
   ]
  },
  {
   "cell_type": "markdown",
   "id": "0676e079-5153-444e-87ed-c8baecbc2fb6",
   "metadata": {},
   "source": [
    "### Kadane’s Algorithm for Maximum Product"
   ]
  },
  {
   "cell_type": "code",
   "execution_count": 1,
   "id": "88bd57c9-3dc8-40a2-95d9-41f3a7b9818e",
   "metadata": {},
   "outputs": [],
   "source": [
    "def maxProduct(nums):\n",
    "    max_product = nums[0]\n",
    "    min_product = nums[0]\n",
    "    result = nums[0]\n",
    "\n",
    "    for i in range(1, len(nums)):\n",
    "        num = nums[i]\n",
    "\n",
    "        if num < 0:\n",
    "            max_product, min_product = min_product, max_product\n",
    "\n",
    "        max_product = max(num, max_product*num)\n",
    "        min_product = min(num, min_product*num)\n",
    "\n",
    "        result = max(max_product, result)\n",
    "    return result"
   ]
  },
  {
   "cell_type": "code",
   "execution_count": 2,
   "id": "9323e159-d6f8-4d87-ad5a-d1f5c07e0be9",
   "metadata": {},
   "outputs": [
    {
     "name": "stdout",
     "output_type": "stream",
     "text": [
      "6\n",
      "0\n",
      "24\n",
      "2\n"
     ]
    }
   ],
   "source": [
    "# Sample Test Cases\n",
    "print(maxProduct([2, 3, -2, 4]))  # Output: 6\n",
    "print(maxProduct([-2, 0, -1]))     # Output: 0\n",
    "print(maxProduct([-2, 3, -4]))     # Output: 24\n",
    "print(maxProduct([0, 2]))          # Output: 2"
   ]
  },
  {
   "cell_type": "markdown",
   "id": "9507f1e9-9f2e-426c-a539-f7c77c604ac5",
   "metadata": {},
   "source": [
    "### Divide and Conquer"
   ]
  },
  {
   "cell_type": "code",
   "execution_count": 3,
   "id": "b9eff042-600a-433f-a088-5679f79ed290",
   "metadata": {},
   "outputs": [],
   "source": [
    "def maxCrossProduct(nums, left, mid, right):\n",
    "    left_max = float('-inf')\n",
    "    temp_product = 1\n",
    "    for i in range(mid, left-1, -1):\n",
    "        temp_product *= nums[i]\n",
    "        left_max = max(left_max, temp_product)\n",
    "\n",
    "    right_max = float('-inf')\n",
    "    temp_product = 1\n",
    "    for i in range(mid+1, right+1):\n",
    "        temp_product *= nums[i]\n",
    "        right_max = max(right_max, temp_product)\n",
    "\n",
    "    return left_max * right_max"
   ]
  },
  {
   "cell_type": "code",
   "execution_count": 4,
   "id": "320f8430-9998-4d0a-9982-694954348a2f",
   "metadata": {},
   "outputs": [],
   "source": [
    "def maxProductDivide(nums, left, right):\n",
    "    if left == right:\n",
    "        return nums[left]\n",
    "\n",
    "    mid = (left + right) // 2\n",
    "\n",
    "    left_max = maxProductDivide(nums, left, mid)\n",
    "    right_max = maxProductDivide(nums, mid+1,right)\n",
    "    cross_max = maxCrossProduct(nums, left, mid, right)\n",
    "\n",
    "    return max(left_max, right_max, cross_max)"
   ]
  },
  {
   "cell_type": "code",
   "execution_count": 5,
   "id": "8b23ddc7-a6ea-479f-a2f3-96ce37312e68",
   "metadata": {},
   "outputs": [],
   "source": [
    "def maxProduct_1(nums):\n",
    "    return maxProductDivide(nums, 0, len(nums)-1)"
   ]
  },
  {
   "cell_type": "code",
   "execution_count": 6,
   "id": "4b0bfc7d-e182-47dc-a1ea-a351bb093bea",
   "metadata": {},
   "outputs": [
    {
     "name": "stdout",
     "output_type": "stream",
     "text": [
      "6\n",
      "0\n",
      "3\n",
      "2\n"
     ]
    }
   ],
   "source": [
    "# Sample Test Cases\n",
    "print(maxProduct_1([2, 3, -2, 4]))  # Output: 6\n",
    "print(maxProduct_1([-2, 0, -1]))     # Output: 0\n",
    "print(maxProduct_1([-2, 3, -4]))     # Output: 24\n",
    "print(maxProduct_1([0, 2]))          # Output: 2"
   ]
  },
  {
   "cell_type": "markdown",
   "id": "e29aebe8-2115-4a5d-b4ed-939aa876177f",
   "metadata": {},
   "source": [
    "❌ Divide & Conquer does NOT work properly for this problem.<br>\n",
    "✅ Kadane’s Algorithm for Product (O(n)) is the correct approach."
   ]
  }
 ],
 "metadata": {
  "kernelspec": {
   "display_name": "Python [conda env:base] *",
   "language": "python",
   "name": "conda-base-py"
  },
  "language_info": {
   "codemirror_mode": {
    "name": "ipython",
    "version": 3
   },
   "file_extension": ".py",
   "mimetype": "text/x-python",
   "name": "python",
   "nbconvert_exporter": "python",
   "pygments_lexer": "ipython3",
   "version": "3.12.7"
  }
 },
 "nbformat": 4,
 "nbformat_minor": 5
}
