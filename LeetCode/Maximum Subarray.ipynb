{
 "cells": [
  {
   "cell_type": "markdown",
   "id": "af70c270-f370-4c0d-a69c-0f6ff2eacbcb",
   "metadata": {},
   "source": [
    "## Given an integer array nums, find the subarray with the largest sum, and return its sum.\n",
    "    \n",
    "Example 1:<br>\n",
    "Input: nums = [-2,1,-3,4,-1,2,1,-5,4]<br>\n",
    "Output: 6<br>\n",
    "Explanation: The subarray [4,-1,2,1] has the largest sum 6."
   ]
  },
  {
   "cell_type": "markdown",
   "id": "ae102a89-34c3-4bb7-9e41-aefd6bf2b8dd",
   "metadata": {},
   "source": [
    "### Kadane’s Algorithm (O(n) Time)"
   ]
  },
  {
   "cell_type": "code",
   "execution_count": 3,
   "id": "d99facba-dc91-48d0-8d05-53ebf856435b",
   "metadata": {},
   "outputs": [],
   "source": [
    "def maxSubArray(nums):\n",
    "    max_sum = float('-inf')\n",
    "    current_sum = 0\n",
    "    for num in nums:\n",
    "        current_sum += num\n",
    "        max_sum = max(max_sum, current_sum)\n",
    "        if current_sum < 0:\n",
    "            current_sum = 0\n",
    "    return max_sum"
   ]
  },
  {
   "cell_type": "code",
   "execution_count": 4,
   "id": "b16161e1-5752-4060-8273-7f63cad2ebd6",
   "metadata": {},
   "outputs": [
    {
     "name": "stdout",
     "output_type": "stream",
     "text": [
      "6\n"
     ]
    }
   ],
   "source": [
    "nums = [-2, 1, -3, 4, -1, 2, 1, -5, 4]\n",
    "print(maxSubArray(nums))"
   ]
  },
  {
   "cell_type": "markdown",
   "id": "bec9642e-55dc-4e42-85fe-43df7163a1f3",
   "metadata": {},
   "source": [
    "###  Divide and Conquer (O(n log n))"
   ]
  },
  {
   "cell_type": "code",
   "execution_count": 6,
   "id": "6cac118b-5961-4b15-a42d-5b79909f56a6",
   "metadata": {},
   "outputs": [],
   "source": [
    "def maxCrossingSum(nums, left, mid, right):\n",
    "    left_sum = float('-inf')\n",
    "    temp_sum = 0\n",
    "    for i in range(mid,left-1,-1):\n",
    "        temp_sum += nums[i]\n",
    "        left_sum = max(left_sum, temp_sum)\n",
    "\n",
    "    right_sum = float('-inf')\n",
    "    temp_sum = 0\n",
    "    for i in range(mid+1,right+1):\n",
    "        temp_sum += nums[i]\n",
    "        right_sum = max(right_sum, temp_sum)\n",
    "\n",
    "    return left_sum + right_sum"
   ]
  },
  {
   "cell_type": "code",
   "execution_count": 7,
   "id": "0a3ecc3c-0931-40f6-8ecc-b57e55a16d84",
   "metadata": {},
   "outputs": [],
   "source": [
    "def maxSubArrayDivide(nums, left, right):\n",
    "    if left == right:\n",
    "        return nums[left]\n",
    "\n",
    "    mid = (left+right) // 2\n",
    "\n",
    "    left_max = maxSubArrayDivide(nums,left,mid)\n",
    "    right_max = maxSubArrayDivide(nums,mid+1,right)\n",
    "    corss_max = maxCrossingSum(nums,left,mid,right)\n",
    "\n",
    "    return max(left_max, right_max, corss_max)"
   ]
  },
  {
   "cell_type": "code",
   "execution_count": 8,
   "id": "cfc9b273-780c-4612-9fe2-8f8d523f259c",
   "metadata": {},
   "outputs": [],
   "source": [
    "def maxSubArray_1(nums):\n",
    "    return maxSubArrayDivide(nums,0,len(nums)-1)"
   ]
  },
  {
   "cell_type": "code",
   "execution_count": 9,
   "id": "f09e921a-55ac-41f4-9807-d6b289bbbe7a",
   "metadata": {},
   "outputs": [
    {
     "name": "stdout",
     "output_type": "stream",
     "text": [
      "6\n"
     ]
    }
   ],
   "source": [
    "nums = [-2, 1, -3, 4, -1, 2, 1, -5, 4]\n",
    "print(maxSubArray_1(nums))"
   ]
  },
  {
   "cell_type": "markdown",
   "id": "286af10f-365b-47d9-958a-123e0958da9d",
   "metadata": {},
   "source": [
    "| Approach          | Time Complexity | Space Complexity | Best Use Case                        |\n",
    "|------------------|----------------|-----------------|--------------------------------------|\n",
    "| Kadane's Algorithm | O(n)           | O(1)            | Best for large arrays (fastest)      |\n",
    "| Divide & Conquer  | O(n log n)      | O(log n)        | Useful for parallel processing       |"
   ]
  }
 ],
 "metadata": {
  "kernelspec": {
   "display_name": "Python [conda env:base] *",
   "language": "python",
   "name": "conda-base-py"
  },
  "language_info": {
   "codemirror_mode": {
    "name": "ipython",
    "version": 3
   },
   "file_extension": ".py",
   "mimetype": "text/x-python",
   "name": "python",
   "nbconvert_exporter": "python",
   "pygments_lexer": "ipython3",
   "version": "3.12.7"
  }
 },
 "nbformat": 4,
 "nbformat_minor": 5
}
