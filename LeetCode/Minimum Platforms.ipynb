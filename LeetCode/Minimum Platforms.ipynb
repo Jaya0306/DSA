{
 "cells": [
  {
   "cell_type": "markdown",
   "id": "8a1da926-a164-4074-bf78-65bc5d22bf75",
   "metadata": {},
   "source": [
    "You are given the arrival times arr[] and departure times dep[] of all trains that arrive at a railway station on the same day. Your task is to determine the minimum number of platforms required at the station to ensure that no train is kept waiting.\n",
    "\n",
    "At any given time, the same platform cannot be used for both the arrival of one train and the departure of another. Therefore, when two trains arrive at the same time, or when one arrives before another departs, additional platforms are required to accommodate both trains.\n",
    "\n",
    "Examples:<br>\n",
    "Input: arr[] = [900, 940, 950, 1100, 1500, 1800], dep[] = [910, 1200, 1120, 1130, 1900, 2000]<br>\n",
    "Output: 3<br>\n",
    "Explanation: There are three trains during the time 9:40 to 12:00. So we need a minimum of 3 platforms."
   ]
  },
  {
   "cell_type": "markdown",
   "id": "48f242bd-1830-4d24-b55e-aff144359756",
   "metadata": {},
   "source": [
    "### Brute Force — Count overlapping intervals\n",
    "Time Complexity:<br>\n",
    "O(n²) — For each arrival, you check all departures.<br>\n",
    "Space Complexity:<br>\n",
    "O(1) — No extra space used."
   ]
  },
  {
   "cell_type": "code",
   "execution_count": 1,
   "id": "d2d066f6-492b-4c5c-841d-48b07c9769bd",
   "metadata": {},
   "outputs": [],
   "source": [
    "def findPlatforms(arr, dep):\n",
    "    n = len(arr)\n",
    "    ans = 0\n",
    "\n",
    "    for i in range(n):\n",
    "        cnt = 1\n",
    "        \n",
    "        for j in range(n):\n",
    "            if i != j:\n",
    "                if arr[i] >= arr[j] and dep[j] >= arr[i]:\n",
    "                    cnt += 1\n",
    "\n",
    "        ans = max(cnt, ans)\n",
    "\n",
    "    return ans"
   ]
  },
  {
   "cell_type": "code",
   "execution_count": 2,
   "id": "d67b67d2-9d90-48da-bfec-ed2b76ee66fc",
   "metadata": {},
   "outputs": [
    {
     "name": "stdout",
     "output_type": "stream",
     "text": [
      "3\n"
     ]
    }
   ],
   "source": [
    "# Test case\n",
    "arr = [900, 940, 950, 1100, 1500, 1800]\n",
    "dep = [910, 1200, 1120, 1130, 1900, 2000]\n",
    "print(findPlatforms(arr, dep))  # Output: 3"
   ]
  },
  {
   "cell_type": "code",
   "execution_count": 3,
   "id": "22281e14-034f-4b25-ad89-96a6a8eb9d94",
   "metadata": {},
   "outputs": [
    {
     "name": "stdout",
     "output_type": "stream",
     "text": [
      "1\n"
     ]
    }
   ],
   "source": [
    "arr = [900, 1235, 1100]\n",
    "dep = [1000, 1240, 1200]\n",
    "print(findPlatforms(arr, dep))  # Output: 1"
   ]
  },
  {
   "cell_type": "code",
   "execution_count": 4,
   "id": "48a0c635-8c40-4d13-b24e-0a433ea41e0b",
   "metadata": {},
   "outputs": [
    {
     "name": "stdout",
     "output_type": "stream",
     "text": [
      "3\n"
     ]
    }
   ],
   "source": [
    "arr = [1000, 935, 1100]\n",
    "dep = [1200, 1240, 1130]\n",
    "print(findPlatforms(arr, dep))  # Output: 3"
   ]
  },
  {
   "cell_type": "markdown",
   "id": "5a9981ca-adbf-4b2a-a1a9-97d24ae1a40c",
   "metadata": {},
   "source": [
    "### Optimized Sorting Approach (Greedy)\n",
    "Time Complexity:<br>\n",
    "O(n log n) — Due to sorting both arrays.<br>\n",
    "Space Complexity:<br>\n",
    "O(1) — Only a few variables are used.<br>"
   ]
  },
  {
   "cell_type": "code",
   "execution_count": 5,
   "id": "becea661-eab7-422c-8c74-e0922e378af6",
   "metadata": {},
   "outputs": [],
   "source": [
    "def findPlatforms_1(arr, dep):\n",
    "    n = len(arr)\n",
    "    max_platforms = 1\n",
    "    platforms_needed = 1\n",
    "    i, j =1, 0\n",
    "    \n",
    "    arr.sort()\n",
    "    dep.sort()\n",
    "\n",
    "    while i < n and j < n:\n",
    "        if arr[i] <= dep[j]:\n",
    "            platforms_needed += 1\n",
    "            i += 1\n",
    "        else:\n",
    "            platforms_needed -= 1\n",
    "            j += 1\n",
    "        max_platforms = max(max_platforms, platforms_needed)\n",
    "\n",
    "    return max_platforms"
   ]
  },
  {
   "cell_type": "code",
   "execution_count": 6,
   "id": "7ceabdc6-f700-4993-8a7e-12bfe518a357",
   "metadata": {},
   "outputs": [
    {
     "name": "stdout",
     "output_type": "stream",
     "text": [
      "3\n"
     ]
    }
   ],
   "source": [
    "# Test case\n",
    "arr = [900, 940, 950, 1100, 1500, 1800]\n",
    "dep = [910, 1200, 1120, 1130, 1900, 2000]\n",
    "print(findPlatforms_1(arr, dep))  # Output: 3"
   ]
  },
  {
   "cell_type": "code",
   "execution_count": 7,
   "id": "944e5823-e3e8-4a76-8a3f-b765657d1d17",
   "metadata": {},
   "outputs": [
    {
     "name": "stdout",
     "output_type": "stream",
     "text": [
      "1\n"
     ]
    }
   ],
   "source": [
    "arr = [900, 1235, 1100]\n",
    "dep = [1000, 1240, 1200]\n",
    "print(findPlatforms_1(arr, dep))  # Output: 1"
   ]
  },
  {
   "cell_type": "code",
   "execution_count": 8,
   "id": "f0f598af-5e1b-4d4e-ac4c-6ed584634d22",
   "metadata": {},
   "outputs": [
    {
     "name": "stdout",
     "output_type": "stream",
     "text": [
      "3\n"
     ]
    }
   ],
   "source": [
    "arr = [1000, 935, 1100]\n",
    "dep = [1200, 1240, 1130]\n",
    "print(findPlatforms_1(arr, dep))  # Output: 3"
   ]
  },
  {
   "cell_type": "markdown",
   "id": "f3875d24-22b9-4117-8313-75068aaa7db7",
   "metadata": {},
   "source": [
    "### Using Sweep line algorithm – O(n + k) time and O(k) space"
   ]
  },
  {
   "cell_type": "code",
   "execution_count": 9,
   "id": "7de20334-7811-4b0a-8cfb-05a3d2671dd6",
   "metadata": {},
   "outputs": [],
   "source": [
    "def findPlatform(arr, dep):\n",
    "    n = len(arr)\n",
    "    ans = 0\n",
    "\n",
    "    # Find the max Departure time \n",
    "    maxDep = max(dep)\n",
    "\n",
    "    # Create a list to store the count of trains at each\n",
    "    # time\n",
    "    v = [0] * (maxDep + 2)\n",
    "    \n",
    "    # Increment the count at the arrival time and decrement\n",
    "    # at the departure time\n",
    "    for i in range(n):\n",
    "        v[arr[i]] += 1\n",
    "        v[dep[i] + 1] -= 1\n",
    "    \n",
    "    count = 0\n",
    "\n",
    "    # Iterate over the list and keep track of the maximum\n",
    "    # sum seen so far\n",
    "    for i in range(maxDep + 2):\n",
    "        count += v[i]\n",
    "        ans = max(ans, count)\n",
    "    \n",
    "    return ans"
   ]
  },
  {
   "cell_type": "code",
   "execution_count": 10,
   "id": "e497d3e8-be4f-46b7-9036-d441e9e6777e",
   "metadata": {},
   "outputs": [
    {
     "name": "stdout",
     "output_type": "stream",
     "text": [
      "3\n"
     ]
    }
   ],
   "source": [
    "# Test case\n",
    "arr = [900, 940, 950, 1100, 1500, 1800]\n",
    "dep = [910, 1200, 1120, 1130, 1900, 2000]\n",
    "print(findPlatforms_1(arr, dep))  # Output: 3"
   ]
  },
  {
   "cell_type": "markdown",
   "id": "b7ee70ee-a9ed-4ec6-b053-87aa25e77d9c",
   "metadata": {},
   "source": [
    "| Approach                                | Time Complexity | Space Complexity | Notes                              |\n",
    "|-----------------------------------------|-----------------|------------------|------------------------------------|\n",
    "| **Brute Force (Check for Overlaps)**    | O(n²)           | O(1)             | Too slow for large inputs          |\n",
    "| **Sorting + Two Pointers (Greedy)**     | O(n log n)      | O(1)             | Most commonly used                 |\n",
    "| **Timeline Array (Counting Sort-like)** | O(n + m)        | O(m)             | Best for fixed range problems      |"
   ]
  }
 ],
 "metadata": {
  "kernelspec": {
   "display_name": "Python [conda env:base] *",
   "language": "python",
   "name": "conda-base-py"
  },
  "language_info": {
   "codemirror_mode": {
    "name": "ipython",
    "version": 3
   },
   "file_extension": ".py",
   "mimetype": "text/x-python",
   "name": "python",
   "nbconvert_exporter": "python",
   "pygments_lexer": "ipython3",
   "version": "3.12.7"
  }
 },
 "nbformat": 4,
 "nbformat_minor": 5
}
