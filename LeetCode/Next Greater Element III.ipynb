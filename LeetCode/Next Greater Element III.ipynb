{
 "cells": [
  {
   "cell_type": "markdown",
   "id": "893ef283-859c-4d76-a472-712030eed842",
   "metadata": {},
   "source": [
    "Given a positive integer n, find the smallest integer which has exactly the same digits existing in the integer n and is greater in value than n. If no such positive integer exists, return -1.\n",
    "\n",
    "Note that the returned integer should fit in 32-bit integer, if there is a valid answer but it does not fit in 32-bit integer, return -1."
   ]
  },
  {
   "cell_type": "code",
   "execution_count": 1,
   "id": "f5b4e820-d11f-4903-be19-694581597468",
   "metadata": {},
   "outputs": [],
   "source": [
    "def nextGreaterElement(n):\n",
    "    digits = list(str(n))   #['2', '3', '0', '2', '4', '1']\n",
    "    i = len(digits) - 2\n",
    "    \n",
    "    # Step 1: Find the first decreasing element from the right\n",
    "    while i >= 0 and digits[i] >= digits[i+1]:\n",
    "        i -= 1\n",
    "    # If no such element is found, return -1\n",
    "    if i == -1:\n",
    "        return -1\n",
    "    \n",
    "    j = len(digits) - 1\n",
    "    \n",
    "    # Step 2: Find the smallest digit larger than digits[i] on the right side\n",
    "    while digits[j] <= digits[i]:\n",
    "        j -= 1\n",
    "        \n",
    "    # Step 3: Swap the two digits\n",
    "    digits[i], digits[j] = digits[j], digits[i] #['2', '3', '0', '4', '2', '1']\n",
    "\n",
    "    # Step 4: Reverse the digits after index i\n",
    "    digits = digits[:i+1] + digits[i+1:][::-1] #['2', '3', '0', '4', '1', '2']\n",
    "    \n",
    "    # Convert list back to integer\n",
    "    result  = int(''.join(digits)) #230412\n",
    "    \n",
    "    # Step 5: Check if within 32-bit integer range\n",
    "    return result if result < 2**31 else -1"
   ]
  },
  {
   "cell_type": "code",
   "execution_count": 3,
   "id": "e3d34d7d-4df9-4ba7-93b0-5750fbb1dde6",
   "metadata": {},
   "outputs": [
    {
     "name": "stdout",
     "output_type": "stream",
     "text": [
      "21\n",
      "-1\n",
      "230412\n"
     ]
    }
   ],
   "source": [
    "# Test Cases\n",
    "print(nextGreaterElement(12))    # Output: 21\n",
    "print(nextGreaterElement(21))    # Output: -1\n",
    "print(nextGreaterElement(230241)) # Output: 230412"
   ]
  },
  {
   "cell_type": "code",
   "execution_count": null,
   "id": "5a2c9ee9-f2c7-4705-b16b-2ad7b20d2be2",
   "metadata": {},
   "outputs": [],
   "source": []
  }
 ],
 "metadata": {
  "kernelspec": {
   "display_name": "Python [conda env:base] *",
   "language": "python",
   "name": "conda-base-py"
  },
  "language_info": {
   "codemirror_mode": {
    "name": "ipython",
    "version": 3
   },
   "file_extension": ".py",
   "mimetype": "text/x-python",
   "name": "python",
   "nbconvert_exporter": "python",
   "pygments_lexer": "ipython3",
   "version": "3.12.7"
  }
 },
 "nbformat": 4,
 "nbformat_minor": 5
}
