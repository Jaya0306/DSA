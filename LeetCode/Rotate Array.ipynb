{
 "cells": [
  {
   "cell_type": "markdown",
   "id": "38230318-b1c5-441d-a5d7-655e26f9e728",
   "metadata": {},
   "source": [
    "## Given an integer array nums, rotate the array to the right by k steps, where k is non-negative."
   ]
  },
  {
   "cell_type": "markdown",
   "id": "348de3f2-e28d-4f90-b437-9f29962d942d",
   "metadata": {},
   "source": [
    "Follow up:\n",
    "* Try to come up with as many solutions as you can. There are at least three different ways to solve this problem.\n",
    "* Could you do it in-place with O(1) extra space?"
   ]
  },
  {
   "cell_type": "markdown",
   "id": "5299cf16-7c81-4f35-908a-5cb86acca2a7",
   "metadata": {},
   "source": [
    "###  Solution 1: Using Extra Space (O(n) Time, O(n) Space)"
   ]
  },
  {
   "cell_type": "code",
   "execution_count": 4,
   "id": "f5c13c55-96aa-4fa4-bbb6-780e94e2281e",
   "metadata": {},
   "outputs": [],
   "source": [
    "def rotate(nums, k):\n",
    "    n = len(nums)\n",
    "    k %= n  # Handle cases where k > n\n",
    "    rotated = nums[-k:] + nums[:-k]  # Take last k elements + first n-k elements\n",
    "    nums[:] = rotated  # Copy back to original array"
   ]
  },
  {
   "cell_type": "code",
   "execution_count": 5,
   "id": "c8884a5c-af00-472c-b3d3-c256486db4c7",
   "metadata": {},
   "outputs": [
    {
     "name": "stdout",
     "output_type": "stream",
     "text": [
      "[5, 6, 7, 1, 2, 3, 4]\n"
     ]
    }
   ],
   "source": [
    "# Test case\n",
    "nums = [1, 2, 3, 4, 5, 6, 7]\n",
    "rotate(nums, 3)\n",
    "print(nums)  # Output: [5, 6, 7, 1, 2, 3, 4]"
   ]
  },
  {
   "cell_type": "markdown",
   "id": "7ac309e0-672c-4817-ac02-105b33eab3e3",
   "metadata": {},
   "source": [
    "use nums[:] = rotated when you want to modify the existing list and nums = rotated when you want to assign a new list. "
   ]
  },
  {
   "cell_type": "code",
   "execution_count": 7,
   "id": "30fa38a9-42db-440e-bc29-6be27489482c",
   "metadata": {},
   "outputs": [
    {
     "name": "stdout",
     "output_type": "stream",
     "text": [
      "[4, 5, 6]\n",
      "[4, 5, 6]\n"
     ]
    }
   ],
   "source": [
    "nums = [1, 2, 3]\n",
    "alias = nums  # alias references the same list as nums\n",
    "\n",
    "nums[:] = [4, 5, 6]\n",
    "print(alias)  # Output: [4, 5, 6] (modified in place)\n",
    "\n",
    "nums = [7, 8, 9]  \n",
    "print(alias)  # Output: [4, 5, 6] (alias still points to the old list)"
   ]
  },
  {
   "cell_type": "markdown",
   "id": "bec9ef82-8a10-4ac3-9199-8b4dc0e1a4b4",
   "metadata": {},
   "source": [
    "### Solution 2: In-Place Reversal Algorithm (O(n) Time, O(1) Space)"
   ]
  },
  {
   "cell_type": "code",
   "execution_count": 9,
   "id": "476ce63b-4137-4976-8877-ae20d24f67f5",
   "metadata": {},
   "outputs": [],
   "source": [
    "def rotate_1(nums, k):\n",
    "    n = len(nums)\n",
    "    k  %= n # Handle cases where k > n\n",
    "\n",
    "    # Helper function to reverse a portion of the list\n",
    "    def reverse(start, end):\n",
    "        while start < end:\n",
    "            nums[start], nums[end] = nums[end], nums[start]\n",
    "            start += 1\n",
    "            end -= 1\n",
    "    # Step 1: Reverse the entire array\n",
    "    reverse(0, n - 1)\n",
    "    # Step 2: Reverse first k elements\n",
    "    reverse(0, k - 1)\n",
    "    # Step 3: Reverse last n-k elements\n",
    "    reverse(k, n - 1)"
   ]
  },
  {
   "cell_type": "code",
   "execution_count": 10,
   "id": "2e9c96b5-39f6-4e37-8eb1-53c6cf8e754a",
   "metadata": {},
   "outputs": [
    {
     "name": "stdout",
     "output_type": "stream",
     "text": [
      "[5, 6, 7, 1, 2, 3, 4]\n"
     ]
    }
   ],
   "source": [
    "# Test case\n",
    "nums = [1, 2, 3, 4, 5, 6, 7]\n",
    "rotate_1(nums, 3)\n",
    "print(nums)  # Output: [5, 6, 7, 1, 2, 3, 4]"
   ]
  },
  {
   "cell_type": "markdown",
   "id": "b4e16ac2-3afd-48f0-83e1-e9830092e298",
   "metadata": {},
   "source": [
    "### Solution 3: Using Cyclic Replacements (O(n) Time, O(1) Space)"
   ]
  },
  {
   "cell_type": "code",
   "execution_count": 12,
   "id": "8e0bd923-9907-46c0-a244-d0a10ac85173",
   "metadata": {},
   "outputs": [],
   "source": [
    "def rotate_2(nums, k):\n",
    "    n = len(nums)\n",
    "    k %= n\n",
    "    count = start = 0\n",
    "\n",
    "    while count < n:\n",
    "        curr = start\n",
    "        prev_value = nums[start]\n",
    "\n",
    "        while True:\n",
    "            next_index = (curr + k) % n\n",
    "            nums[next_index], prev_value = prev_value, nums[next_index]\n",
    "            curr = next_index\n",
    "            count += 1\n",
    "\n",
    "            if start == curr:\n",
    "                break\n",
    "        start += 1"
   ]
  },
  {
   "cell_type": "code",
   "execution_count": 13,
   "id": "67b23706-38a7-4c36-a3d4-85e9224e5d46",
   "metadata": {},
   "outputs": [
    {
     "name": "stdout",
     "output_type": "stream",
     "text": [
      "[5, 6, 7, 1, 2, 3, 4]\n"
     ]
    }
   ],
   "source": [
    "# Test case\n",
    "nums = [1, 2, 3, 4, 5, 6, 7]\n",
    "rotate_2(nums, 3)\n",
    "print(nums)  # Output: [5, 6, 7, 1, 2, 3, 4]"
   ]
  }
 ],
 "metadata": {
  "kernelspec": {
   "display_name": "Python [conda env:base] *",
   "language": "python",
   "name": "conda-base-py"
  },
  "language_info": {
   "codemirror_mode": {
    "name": "ipython",
    "version": 3
   },
   "file_extension": ".py",
   "mimetype": "text/x-python",
   "name": "python",
   "nbconvert_exporter": "python",
   "pygments_lexer": "ipython3",
   "version": "3.12.7"
  }
 },
 "nbformat": 4,
 "nbformat_minor": 5
}
