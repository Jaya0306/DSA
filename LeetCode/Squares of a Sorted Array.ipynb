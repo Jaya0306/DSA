{
 "cells": [
  {
   "cell_type": "markdown",
   "id": "1d83d8ec-c78e-4104-98a5-a1f063a4c1ba",
   "metadata": {},
   "source": [
    "## Given an integer array nums sorted in non-decreasing order, return an array of the squares of each number sorted in non-decreasing order."
   ]
  },
  {
   "cell_type": "markdown",
   "id": "e205379a-18d2-426d-950b-fda9e5aef909",
   "metadata": {},
   "source": [
    "Example 1:<br>\n",
    "Input: nums = [-4,-1,0,3,10]<br>\n",
    "Output: [0,1,9,16,100]<br>\n",
    "Explanation: After squaring, the array becomes [16,1,0,9,100].<br>\n",
    "After sorting, it becomes [0,1,9,16,100].<br>\n",
    "\n",
    "Follow up: Squaring each element and sorting the new array is very trivial, could you find an O(n) solution using a different approach?"
   ]
  },
  {
   "cell_type": "markdown",
   "id": "88de920f-a499-4517-bb6d-335a06f79971",
   "metadata": {},
   "source": [
    "### Brute Force Solution (O(n log n))"
   ]
  },
  {
   "cell_type": "code",
   "execution_count": 4,
   "id": "f763127a-b238-4603-a8e0-aad347113615",
   "metadata": {},
   "outputs": [],
   "source": [
    "def sortedSquares(nums):\n",
    "    return sorted(x * x for x in nums)"
   ]
  },
  {
   "cell_type": "code",
   "execution_count": 5,
   "id": "7c5d284b-13de-4195-9cca-3e123408b46e",
   "metadata": {},
   "outputs": [
    {
     "name": "stdout",
     "output_type": "stream",
     "text": [
      "[0, 1, 9, 16, 100]\n"
     ]
    }
   ],
   "source": [
    "nums = [-4, -1, 0, 3, 10]\n",
    "print(sortedSquares(nums))"
   ]
  },
  {
   "cell_type": "markdown",
   "id": "2b029fe6-dc94-48ea-9439-c3b5126ed843",
   "metadata": {},
   "source": [
    "### Optimized O(n) Approach Using Two Pointers"
   ]
  },
  {
   "cell_type": "code",
   "execution_count": 7,
   "id": "1dd4181b-3132-43c2-b862-c635a1206ad0",
   "metadata": {},
   "outputs": [],
   "source": [
    "def sortedSquare_1(nums):\n",
    "    n = len(nums)\n",
    "    result = [0]*n\n",
    "    l, r = 0, n-1\n",
    "    index = n-1\n",
    "    while l <= r:\n",
    "        left_num = nums[l]**2\n",
    "        right_num = nums[r]**2\n",
    "\n",
    "        if left_num > right_num:\n",
    "            result[index] = left_num\n",
    "            l += 1\n",
    "\n",
    "        else:\n",
    "            result[index] = right_num\n",
    "            r -= 1\n",
    "\n",
    "        index -= 1\n",
    "    return result"
   ]
  },
  {
   "cell_type": "code",
   "execution_count": 8,
   "id": "818fe0f2-c592-41ff-8e73-20c0782f471e",
   "metadata": {},
   "outputs": [
    {
     "name": "stdout",
     "output_type": "stream",
     "text": [
      "[0, 1, 9, 16, 100]\n"
     ]
    }
   ],
   "source": [
    "nums = [-4, -1, 0, 3, 10]\n",
    "print(sortedSquare_1(nums))"
   ]
  }
 ],
 "metadata": {
  "kernelspec": {
   "display_name": "Python [conda env:base] *",
   "language": "python",
   "name": "conda-base-py"
  },
  "language_info": {
   "codemirror_mode": {
    "name": "ipython",
    "version": 3
   },
   "file_extension": ".py",
   "mimetype": "text/x-python",
   "name": "python",
   "nbconvert_exporter": "python",
   "pygments_lexer": "ipython3",
   "version": "3.12.7"
  }
 },
 "nbformat": 4,
 "nbformat_minor": 5
}
