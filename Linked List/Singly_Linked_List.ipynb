{
 "cells": [
  {
   "cell_type": "code",
   "execution_count": 1,
   "id": "689d0552-d55d-455d-9c0f-e3dc05959703",
   "metadata": {},
   "outputs": [],
   "source": [
    "class Node:\n",
    "    def __init__(self, data):\n",
    "        self.data = data\n",
    "        self.next = None"
   ]
  },
  {
   "cell_type": "code",
   "execution_count": 2,
   "id": "905cedb6-a439-452e-8384-e64d2646bc78",
   "metadata": {},
   "outputs": [],
   "source": [
    "class LinkedList:\n",
    "    def __init__(self):\n",
    "        self.head = None\n",
    "\n",
    "    def insert_at_tail(self, newNode):\n",
    "        #For First insertion\n",
    "        if self.head is None:\n",
    "            self.head = newNode\n",
    "        else:\n",
    "            lastNode = self.head\n",
    "            while True:\n",
    "                if lastNode.next is None:\n",
    "                    break\n",
    "                lastNode = lastNode.next\n",
    "            lastNode.next = newNode\n",
    "\n",
    "    def print_all_node(self):\n",
    "        #if list is empty\n",
    "        if self.head is None:\n",
    "            print(\"List is empty\")\n",
    "            return\n",
    "        currentNode = self.head\n",
    "        while True:\n",
    "            if currentNode is None:\n",
    "                    break\n",
    "            print(currentNode.data)\n",
    "            currentNode = currentNode.next\n"
   ]
  },
  {
   "cell_type": "code",
   "execution_count": 3,
   "id": "8ed61db4-3202-412d-9dce-5b58a8d54032",
   "metadata": {},
   "outputs": [],
   "source": [
    "linkedList = LinkedList()\n",
    "firstNode = Node(\"Jhon\")\n",
    "secondNode = Node(\"Benny\")\n",
    "thirdNode = Node(\"Jack\")\n",
    "linkedList.insert_at_tail(firstNode)\n",
    "linkedList.insert_at_tail(secondNode)\n",
    "linkedList.insert_at_tail(thirdNode)"
   ]
  },
  {
   "cell_type": "code",
   "execution_count": 4,
   "id": "04ae703c-4ab4-43cc-b346-7f58a787dd8d",
   "metadata": {},
   "outputs": [
    {
     "name": "stdout",
     "output_type": "stream",
     "text": [
      "Jhon\n",
      "Benny\n",
      "Jack\n"
     ]
    }
   ],
   "source": [
    "linkedList.print_all_node()"
   ]
  },
  {
   "cell_type": "code",
   "execution_count": null,
   "id": "63e8ad59-9bec-4b6b-b259-5a46d5114c72",
   "metadata": {},
   "outputs": [],
   "source": []
  }
 ],
 "metadata": {
  "kernelspec": {
   "display_name": "Python 3 (ipykernel)",
   "language": "python",
   "name": "python3"
  },
  "language_info": {
   "codemirror_mode": {
    "name": "ipython",
    "version": 3
   },
   "file_extension": ".py",
   "mimetype": "text/x-python",
   "name": "python",
   "nbconvert_exporter": "python",
   "pygments_lexer": "ipython3",
   "version": "3.12.3"
  }
 },
 "nbformat": 4,
 "nbformat_minor": 5
}
