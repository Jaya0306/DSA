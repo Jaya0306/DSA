{
 "cells": [
  {
   "cell_type": "markdown",
   "id": "878adb5f-6afe-4022-bbd3-6c3bfcf51783",
   "metadata": {},
   "source": [
    "You are in charge of the cake for a child's birthday. It will have one candle for each year of their total age. They will only be able to blow out the tallest of the candles. Your task is to count how many candles are the tallest.\n",
    "\n",
    "Example\n",
    "\n",
    "candles = [4,4,1,3]\n",
    "\n",
    "The tallest candles are 4 units high. There are 2 candles with this height, so the function should return 2."
   ]
  },
  {
   "cell_type": "code",
   "execution_count": 1,
   "id": "6d90f964-915b-4917-be5a-13e921c84b61",
   "metadata": {},
   "outputs": [],
   "source": [
    "def birthdayCakeCandles(candles):\n",
    "    tallest = max(candles)\n",
    "    return candles.count(tallest)"
   ]
  },
  {
   "cell_type": "code",
   "execution_count": 2,
   "id": "c7b9ef47-622a-4f3c-95a4-21f1df381a97",
   "metadata": {},
   "outputs": [
    {
     "name": "stdin",
     "output_type": "stream",
     "text": [
      " 4\n",
      " 3 2 1 3\n"
     ]
    }
   ],
   "source": [
    "n = int(input())  # Number of candles\n",
    "candles = list(map(int, input().split()))  # Candle heights"
   ]
  },
  {
   "cell_type": "code",
   "execution_count": 3,
   "id": "8da40614-7d21-44b1-a3f1-b27c2b8225aa",
   "metadata": {},
   "outputs": [
    {
     "name": "stdout",
     "output_type": "stream",
     "text": [
      "2\n"
     ]
    }
   ],
   "source": [
    "print(birthdayCakeCandles(candles))"
   ]
  },
  {
   "cell_type": "markdown",
   "id": "155e0e0d-caa2-47e5-88ed-243d480d54f6",
   "metadata": {},
   "source": [
    "Given a time in -hour AM/PM format, convert it to military (24-hour) time.\n",
    "\n",
    "Note: \n",
    "- 12:00:00AM on a 12-hour clock is 00:00:00 on a 24-hour clock.\n",
    "- 12:00:00PM on a 12-hour clock is 12:00:00 on a 24-hour clock."
   ]
  },
  {
   "cell_type": "code",
   "execution_count": 4,
   "id": "d6768040-7e19-4aa0-b38f-faad64be67b7",
   "metadata": {},
   "outputs": [],
   "source": [
    "def timeConversion(s):\n",
    "    hh, mm, ss = s[:-2].split(\":\")  # Remove AM/PM and split into parts\n",
    "    period = s[-2:]  # Extract AM or PM\n",
    "    if period == \"AM\":\n",
    "        hh = \"00\" if hh == \"12\" else hh  # 12 AM becomes 00\n",
    "    else:\n",
    "        hh = str(int(hh) + 12) if hh != \"12\" else hh  # Convert PM times except 12 PM\n",
    "    return f\"{hh}:{mm}:{ss}\""
   ]
  },
  {
   "cell_type": "code",
   "execution_count": 5,
   "id": "55a739fd-db00-44d5-8a7e-66175dda23f8",
   "metadata": {},
   "outputs": [
    {
     "name": "stdin",
     "output_type": "stream",
     "text": [
      " 07:05:45PM\n"
     ]
    }
   ],
   "source": [
    "s = input().strip()"
   ]
  },
  {
   "cell_type": "code",
   "execution_count": 6,
   "id": "d97f2808-b4fd-4dd9-98a7-cd008e7ecba8",
   "metadata": {},
   "outputs": [
    {
     "name": "stdout",
     "output_type": "stream",
     "text": [
      "19:05:45\n"
     ]
    }
   ],
   "source": [
    "print(timeConversion(s))"
   ]
  }
 ],
 "metadata": {
  "kernelspec": {
   "display_name": "Python [conda env:base] *",
   "language": "python",
   "name": "conda-base-py"
  },
  "language_info": {
   "codemirror_mode": {
    "name": "ipython",
    "version": 3
   },
   "file_extension": ".py",
   "mimetype": "text/x-python",
   "name": "python",
   "nbconvert_exporter": "python",
   "pygments_lexer": "ipython3",
   "version": "3.12.7"
  }
 },
 "nbformat": 4,
 "nbformat_minor": 5
}
