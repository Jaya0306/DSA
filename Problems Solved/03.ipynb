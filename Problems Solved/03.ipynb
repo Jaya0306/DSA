{
 "cells": [
  {
   "cell_type": "markdown",
   "id": "575d4da7-c9af-4370-8661-5fbbc821d5c7",
   "metadata": {},
   "source": [
    "Given five positive integers, find the minimum and maximum values that can be calculated by summing exactly four of the five integers. Then print the respective minimum and maximum values as a single line of two space-separated long integers.\n",
    "\n",
    "Example: arr = [1,3,5,7,9]\n",
    "\n",
    "The minimum sum is 1+3+5+7=16 and the maximum sum is 3+5+7+9=24. The function prints 16  24"
   ]
  },
  {
   "cell_type": "code",
   "execution_count": 1,
   "id": "ae25bdbd-e38b-452b-93ea-8e111b861dc3",
   "metadata": {},
   "outputs": [],
   "source": [
    "def miniMaxSum(arr):\n",
    "    arr = sorted(arr)\n",
    "    print(f'{sum(arr[:4])} {sum(arr[-4:])}')"
   ]
  },
  {
   "cell_type": "code",
   "execution_count": 2,
   "id": "050712f6-2a71-46e7-9c99-3d2dfbb329f6",
   "metadata": {},
   "outputs": [
    {
     "name": "stdin",
     "output_type": "stream",
     "text": [
      " 1 2 3 4 5\n"
     ]
    }
   ],
   "source": [
    "arr = list(map(int, input().split()))"
   ]
  },
  {
   "cell_type": "code",
   "execution_count": 3,
   "id": "fbb7fd08-f305-42fc-8c40-9fde4e050733",
   "metadata": {},
   "outputs": [
    {
     "name": "stdout",
     "output_type": "stream",
     "text": [
      "10 14\n"
     ]
    }
   ],
   "source": [
    "miniMaxSum(arr)"
   ]
  },
  {
   "cell_type": "markdown",
   "id": "17ec6352-9dca-4073-a3ee-f9108c3e91ad",
   "metadata": {},
   "source": [
    "HackerLand University has the following grading policy:\n",
    "* Every student receives a grade in the inclusive range from 0 to 100.\n",
    "* Any grade less than 40 is a failing grade.\n",
    "  \n",
    "Sam is a professor at the university and likes to round each student's grade according to these rules:\n",
    "* If the difference between the grade and the next multiple of 5 is less than 3, round grade up to the next multiple of 5.\n",
    "* If the value of grade is less than 30, no rounding occurs as the result will still be a failing grade."
   ]
  },
  {
   "cell_type": "code",
   "execution_count": 3,
   "id": "12cd095d-068c-4642-b8e0-3cce8dd02925",
   "metadata": {},
   "outputs": [],
   "source": [
    "def gradingStudents(grades):\n",
    "    rounded_grades = []\n",
    "    for grade in grades:\n",
    "        if grade < 38:\n",
    "            rounded_grades.append(grade)\n",
    "        else:\n",
    "            next_multiple_of_5 = (grade + 4) // 5 * 5  \n",
    "            if next_multiple_of_5 - grade < 3:\n",
    "                rounded_grades.append(next_multiple_of_5)\n",
    "            else:\n",
    "                rounded_grades.append(grade)\n",
    "    return rounded_grades"
   ]
  },
  {
   "cell_type": "code",
   "execution_count": 7,
   "id": "19e46f06-2e3b-4960-9925-ff90125f3d49",
   "metadata": {},
   "outputs": [
    {
     "name": "stdout",
     "output_type": "stream",
     "text": [
      "[75, 67, 40, 33]\n"
     ]
    }
   ],
   "source": [
    "# Sample input and output\n",
    "n = 4\n",
    "grades = [73, 67, 38, 33]\n",
    "result = gradingStudents(grades)\n",
    "print(result) "
   ]
  }
 ],
 "metadata": {
  "kernelspec": {
   "display_name": "Python [conda env:base] *",
   "language": "python",
   "name": "conda-base-py"
  },
  "language_info": {
   "codemirror_mode": {
    "name": "ipython",
    "version": 3
   },
   "file_extension": ".py",
   "mimetype": "text/x-python",
   "name": "python",
   "nbconvert_exporter": "python",
   "pygments_lexer": "ipython3",
   "version": "3.12.7"
  }
 },
 "nbformat": 4,
 "nbformat_minor": 5
}
