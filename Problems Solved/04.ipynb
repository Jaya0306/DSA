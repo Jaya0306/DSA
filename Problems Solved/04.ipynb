{
 "cells": [
  {
   "cell_type": "markdown",
   "id": "882c9d42-75f2-44d4-973b-c2fbee1ce0a5",
   "metadata": {},
   "source": [
    "Sam's house has an apple tree and an orange tree that yield an abundance of fruit. Using the information given below, determine the number of apples and oranges that land on Sam's house.\n",
    "* The red region denotes the house, where s is the start point, and t is the endpoint. The apple tree is to the left of the house, and the orange tree is to its right.\n",
    "* Assume the trees are located on a single point, where the apple tree is at point a, and the orange tree is at point b.\n",
    "* When a fruit falls from its tree, it lands d units of distance from its tree of origin along the x-axis. *A negative value of d means the fruit fell  units to the tree's left, and a positive value of d means it falls d units to the tree's right. *\n",
    "\n",
    "Given the value of d for m apples and n oranges, determine how many apples and oranges will fall on Sam's house (i.e., in the inclusive range [s, t])?"
   ]
  },
  {
   "cell_type": "code",
   "execution_count": 2,
   "id": "48212d76-289d-44ce-9fb2-16dafb388c07",
   "metadata": {},
   "outputs": [],
   "source": [
    "def countApplesAndOranges(s, t, a, b, apples, oranges):\n",
    "    # Calculate the positions where apples land\n",
    "    apple_positions = [a + d for d in apples]\n",
    "    # Calculate the positions where oranges land\n",
    "    orange_positions = [b + d for d in oranges]\n",
    "\n",
    "    # Count apples that fall on the house\n",
    "    apples_on_house = sum(1 for pos in apple_positions if s <= pos <= t)\n",
    "    # Count oranges that fall on the house\n",
    "    oranges_on_house = sum(1 for pos in orange_positions if s <= pos <= t)\n",
    "\n",
    "    # Print the results\n",
    "    print(apples_on_house)\n",
    "    print(oranges_on_house)"
   ]
  },
  {
   "cell_type": "code",
   "execution_count": 3,
   "id": "71db48ca-4e8a-4082-a8aa-3b66f7e306ae",
   "metadata": {},
   "outputs": [],
   "source": [
    "# Sample input and output\n",
    "s, t = 7, 11  # Sam's house range\n",
    "a, b = 5, 15  # Positions of the apple and orange trees\n",
    "apples = [-2, 2, 1]  # Distances at which apples fall\n",
    "oranges = [5, -6]  # Distances at which oranges fall"
   ]
  },
  {
   "cell_type": "code",
   "execution_count": 4,
   "id": "0380d318-eca1-4afb-8cd0-68dd49355ed7",
   "metadata": {},
   "outputs": [
    {
     "name": "stdout",
     "output_type": "stream",
     "text": [
      "1\n",
      "1\n"
     ]
    }
   ],
   "source": [
    "countApplesAndOranges(s, t, a, b, apples, oranges)  "
   ]
  },
  {
   "cell_type": "markdown",
   "id": "b7c76363-11c1-45f6-bd9d-2ff290f3324c",
   "metadata": {},
   "source": [
    "Given an array of bird sightings where every element represents a bird type id, determine the id of the most frequently sighted type. If more than 1 type has been spotted that maximum amount, return the smallest of their ids."
   ]
  },
  {
   "cell_type": "code",
   "execution_count": 6,
   "id": "51e93375-e370-4c8f-a12f-1f7376378b70",
   "metadata": {},
   "outputs": [],
   "source": [
    "from collections import Counter\n",
    "\n",
    "def migratoryBirds(arr):\n",
    "    # Count the frequency of each bird type\n",
    "    bird_count = Counter(arr)\n",
    "    \n",
    "    # Find the maximum frequency\n",
    "    max_count = max(bird_count.values())\n",
    "    \n",
    "    # Find the smallest bird type with the maximum frequency\n",
    "    most_common_bird = min(bird for bird, count in bird_count.items() if count == max_count)\n",
    "    \n",
    "    return most_common_bird"
   ]
  },
  {
   "cell_type": "code",
   "execution_count": 7,
   "id": "d73b2deb-29e2-4d40-874c-6afc4f13d05b",
   "metadata": {},
   "outputs": [],
   "source": [
    "# Sample input and output\n",
    "n = 6\n",
    "arr = [1, 4, 4, 4, 5, 3]"
   ]
  },
  {
   "cell_type": "code",
   "execution_count": 8,
   "id": "4f94a385-d24b-4abd-8ad6-54249f6fd006",
   "metadata": {},
   "outputs": [
    {
     "name": "stdout",
     "output_type": "stream",
     "text": [
      "4\n"
     ]
    }
   ],
   "source": [
    "print(migratoryBirds(arr))"
   ]
  }
 ],
 "metadata": {
  "kernelspec": {
   "display_name": "Python [conda env:base] *",
   "language": "python",
   "name": "conda-base-py"
  },
  "language_info": {
   "codemirror_mode": {
    "name": "ipython",
    "version": 3
   },
   "file_extension": ".py",
   "mimetype": "text/x-python",
   "name": "python",
   "nbconvert_exporter": "python",
   "pygments_lexer": "ipython3",
   "version": "3.12.7"
  }
 },
 "nbformat": 4,
 "nbformat_minor": 5
}
