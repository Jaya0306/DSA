{
 "cells": [
  {
   "cell_type": "markdown",
   "id": "9d4c1037-51e6-4aad-94f6-6c36db2a8236",
   "metadata": {},
   "source": [
    "There will be two arrays of integers. Determine all integers that satisfy the following two conditions:\n",
    "\n",
    "* The elements of the first array are all factors of the integer being considered(LCM).\n",
    "* The integer being considered is a factor of all elements of the second array(GCD).\n",
    "  \n",
    "These numbers are referred to as being between the two arrays. Determine how many such numbers exist.\n",
    "\n",
    "Example:\n",
    "a = [2, 6]\n",
    "b = [24, 36]\n",
    "\n",
    "There are two numbers between the arrays:6 and 12.<br>\n",
    "6%2=0, 6%6=0, 24%6=0 and 36%6=0 for the first value.<br>\n",
    "12%2=0, 12%6=0 and 24%12=0, 36%12=0 for the second value.<br> \n",
    "Return 2."
   ]
  },
  {
   "cell_type": "code",
   "execution_count": 1,
   "id": "051e1b38-e05e-43fb-b774-e48e20a69b3c",
   "metadata": {},
   "outputs": [],
   "source": [
    "from math import gcd\n",
    "from functools import reduce\n",
    "\n",
    "def lcm(x, y):\n",
    "    return (x * y) // gcd(x, y) # LCM formula\n",
    "\n",
    "def getTotalX(a, b):\n",
    "    # Step 1: Find LCM of array `a`\n",
    "    lcm_a = reduce(lcm, a)\n",
    "    # Step 2: Find GCD of array `b`\n",
    "    gcd_b = reduce(gcd, b)\n",
    "\n",
    "    # Step 3: Count multiples of lcm_a that divide gcd_b\n",
    "    count = 0\n",
    "    multiple_a = lcm_a\n",
    "    \n",
    "    while multiple_a <= gcd_b:\n",
    "        if gcd_b % multiple_a == 0:\n",
    "            count += 1\n",
    "        multiple_a += lcm_a\n",
    "        \n",
    "    return count"
   ]
  },
  {
   "cell_type": "code",
   "execution_count": 3,
   "id": "30be9a9c-b1df-4843-a878-ce89f59abbef",
   "metadata": {},
   "outputs": [
    {
     "name": "stdin",
     "output_type": "stream",
     "text": [
      " 2 3\n",
      " 2 4\n",
      " 16 32 96\n"
     ]
    }
   ],
   "source": [
    "# Reading input\n",
    "n, m = map(int, input().split())  # Number of elements in a and b\n",
    "a = list(map(int, input().split()))  # Array a\n",
    "b = list(map(int, input().split()))  # Array b"
   ]
  },
  {
   "cell_type": "code",
   "execution_count": 5,
   "id": "42840ce8-35b3-44c1-8836-57ec303d1659",
   "metadata": {},
   "outputs": [
    {
     "name": "stdout",
     "output_type": "stream",
     "text": [
      "3\n"
     ]
    }
   ],
   "source": [
    "print(getTotalX(a, b))"
   ]
  },
  {
   "cell_type": "markdown",
   "id": "bd5f6ef9-8153-4456-bd14-35e78eda81cd",
   "metadata": {},
   "source": [
    "Maria plays college basketball and wants to go pro. Each season she maintains a record of her play. She tabulates the number of times she breaks her season record for most points and least points in a game. Points scored in the first game establish her record for the season, and she begins counting from there.\n",
    "\n",
    "Example: scores = [12, 24, 10, 24]\n",
    "\n",
    "Scores are in the same order as the games played. She tabulates her results as follows:\n",
    "\n",
    "                                     Count\n",
    "    Game  Score  Minimum  Maximum   Min Max\n",
    "     0      12     12       12       0   0\n",
    "     1      24     12       24       0   1\n",
    "     2      10     10       24       1   1\n",
    "     3      24     10       24       1   1\n",
    "Given the scores for a season, determine the number of times Maria breaks her records for most and least points scored during the season."
   ]
  },
  {
   "cell_type": "code",
   "execution_count": 7,
   "id": "3fb77fb9-7b91-4c84-aa1f-2c555e97d45a",
   "metadata": {},
   "outputs": [],
   "source": [
    "def breakingRecords(scores):\n",
    "    highest = lowest = scores[0] # Initialize records  \n",
    "    min_s = max_s = 0 # Track how many times records are broken\n",
    "\n",
    "    # Iterate from the second game onward\n",
    "    for score in scores[1:]:\n",
    "        if score > highest:\n",
    "            max_s += 1\n",
    "            highest = score\n",
    "        elif score < lowest:\n",
    "            min_s += 1\n",
    "            lowest = score\n",
    "\n",
    "    return [max_s, min_s]"
   ]
  },
  {
   "cell_type": "code",
   "execution_count": 9,
   "id": "358c1de3-cd47-4b15-88c6-05a4c5b3fe76",
   "metadata": {},
   "outputs": [
    {
     "name": "stdin",
     "output_type": "stream",
     "text": [
      " 9\n",
      " 10 5 20 20 4 5 2 25 1\n"
     ]
    }
   ],
   "source": [
    "n = int(input())  # Number of games\n",
    "scores = list(map(int, input().split()))  # Scores per game"
   ]
  },
  {
   "cell_type": "code",
   "execution_count": 11,
   "id": "630c33aa-610f-460f-87d2-9eff8f9b5859",
   "metadata": {},
   "outputs": [
    {
     "name": "stdout",
     "output_type": "stream",
     "text": [
      "2 4\n"
     ]
    }
   ],
   "source": [
    "print(*breakingRecords(scores))  # Unpacking list to print space-separated values"
   ]
  }
 ],
 "metadata": {
  "kernelspec": {
   "display_name": "Python [conda env:base] *",
   "language": "python",
   "name": "conda-base-py"
  },
  "language_info": {
   "codemirror_mode": {
    "name": "ipython",
    "version": 3
   },
   "file_extension": ".py",
   "mimetype": "text/x-python",
   "name": "python",
   "nbconvert_exporter": "python",
   "pygments_lexer": "ipython3",
   "version": "3.12.7"
  }
 },
 "nbformat": 4,
 "nbformat_minor": 5
}
