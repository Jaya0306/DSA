{
 "cells": [
  {
   "cell_type": "markdown",
   "id": "a2fbc7f9-15cf-4dbe-9006-987af15854d7",
   "metadata": {},
   "source": [
    "A teacher asks the class to open their books to a page number. A student can either start turning pages from the front of the book or from the back of the book. They always turn pages one at a time. When they open the book, page 1 is always on the right side:\n",
    "\n",
    "When they flip page 1, they see pages 2 and 3. Each page except the last page will always be printed on both sides. The last page may only be printed on the front, given the length of the book. If the book is n pages long, and a student wants to turn to page p, what is the minimum number of pages to turn? They can start at the beginning or the end of the book.\n",
    "\n",
    "Given n and p, find and print the minimum number of pages that must be turned in order to arrive at page ."
   ]
  },
  {
   "cell_type": "code",
   "execution_count": 1,
   "id": "d1d7df0f-067f-4885-b3b9-b99c2ba668b5",
   "metadata": {},
   "outputs": [],
   "source": [
    "def pageCount(n, p):\n",
    "    # Calculate turns from the front\n",
    "    front_turns = p // 2\n",
    "    \n",
    "    # Calculate turns from the back\n",
    "    back_turns = (n // 2) - (p // 2)\n",
    "    \n",
    "    # Return the minimum turns required\n",
    "    return min(front_turns, back_turns)"
   ]
  },
  {
   "cell_type": "code",
   "execution_count": 3,
   "id": "39e3002e-3bd4-456a-a51f-6dd0bb8a008f",
   "metadata": {},
   "outputs": [],
   "source": [
    "# Predefined test cases\n",
    "test_cases = [\n",
    "    (6, 2),  # Expected Output: 1\n",
    "    (5, 4),  # Expected Output: 0\n",
    "    (7, 5),  # Expected Output: 1\n",
    "    (10, 4), # Expected Output: 2\n",
    "    (15, 14) # Expected Output: 1\n",
    "]"
   ]
  },
  {
   "cell_type": "code",
   "execution_count": 5,
   "id": "bf148d7b-4bb3-40e9-a741-def237289d6a",
   "metadata": {},
   "outputs": [
    {
     "name": "stdout",
     "output_type": "stream",
     "text": [
      "Running predefined test cases...\n",
      "\n",
      "Test Case 1: n = 6, p = 2\n",
      "Minimum pages to turn: 1\n",
      "------------------------------\n",
      "Test Case 2: n = 5, p = 4\n",
      "Minimum pages to turn: 0\n",
      "------------------------------\n",
      "Test Case 3: n = 7, p = 5\n",
      "Minimum pages to turn: 1\n",
      "------------------------------\n",
      "Test Case 4: n = 10, p = 4\n",
      "Minimum pages to turn: 2\n",
      "------------------------------\n",
      "Test Case 5: n = 15, p = 14\n",
      "Minimum pages to turn: 0\n",
      "------------------------------\n"
     ]
    }
   ],
   "source": [
    "# Running test cases\n",
    "print(\"Running predefined test cases...\\n\")\n",
    "for i, (n, p) in enumerate(test_cases, start=1):\n",
    "    print(f\"Test Case {i}: n = {n}, p = {p}\")\n",
    "    print(\"Minimum pages to turn:\", pageCount(n, p))\n",
    "    print(\"-\" * 30)"
   ]
  },
  {
   "cell_type": "markdown",
   "id": "276543e0-3d93-4f1f-8dda-ea6cda97e908",
   "metadata": {},
   "source": [
    "You are choreographing a circus show with various animals. For one act, you are given two kangaroos on a number line ready to jump in the positive direction (i.e, toward positive infinity).\n",
    "\n",
    "* The first kangaroo starts at location x1 and moves at a rate of v1 meters per jump.\n",
    "* The second kangaroo starts at location x2 and moves at a rate of v2 meters per jump.\n",
    "  \n",
    "You have to figure out a way to get both kangaroos at the same location at the same time as part of the show. If it is possible, return YES, otherwise return NO."
   ]
  },
  {
   "cell_type": "code",
   "execution_count": 7,
   "id": "bfe89df0-72c4-4879-b4a1-5a14cdc781e9",
   "metadata": {},
   "outputs": [],
   "source": [
    "def kangaroo(x1, v1, x2, v2):\n",
    "    # Avoid infinite loops by checking if they can ever meet\n",
    "    if v1 == v2:\n",
    "        return \"YES\" if x1 == x2 else \"NO\"\n",
    "\n",
    "    # Check if they meet at the same location\n",
    "    if (x2 - x1) % (v1 - v2) == 0 and (x2 - x1) * (v2 - v1) < 0:\n",
    "        return \"YES\"\n",
    "    else:\n",
    "        return \"NO\""
   ]
  },
  {
   "cell_type": "markdown",
   "id": "7a00c323-8508-4d80-9a41-adf1c337b0ce",
   "metadata": {},
   "source": [
    "If both kangaroos have the same jump speed (v1 == v2), then:\n",
    "* If they start at the same position (x1 == x2), they will always be together → Return \"YES\".\n",
    "* If they start at different positions (x1 ≠ x2), they will never meet → Return \"NO\".\n",
    "  \n",
    "For some integer j, x1 - x2 must be divisible by v2 - v1 → (x2 - x1) % (v1 - v2) == 0<br>\n",
    "The difference (x2 - x1) * (v2 - v1) < 0 ensures that they are actually moving towards each other.\n",
    "* If v1 > v2, the first kangaroo must start behind the second (x1 < x2).\n",
    "* If v1 < v2, the first kangaroo will never catch up because it's slower."
   ]
  },
  {
   "cell_type": "code",
   "execution_count": 9,
   "id": "4c5a3720-13b4-4308-8c8d-8fa3c2f4004a",
   "metadata": {},
   "outputs": [],
   "source": [
    "# Predefined test cases\n",
    "test_cases = [\n",
    "    (0, 3, 4, 2),  # Expected Output: YES\n",
    "    (0, 2, 5, 3),  # Expected Output: NO\n",
    "    (21, 6, 47, 3),  # Expected Output: NO\n",
    "    (0, 5, 10, 2),  # Expected Output: NO\n",
    "    (2, 1, 1, 2)   # Expected Output: YES\n",
    "]"
   ]
  },
  {
   "cell_type": "code",
   "execution_count": 11,
   "id": "1cc69289-c788-4df2-8e53-0b8e346c29b7",
   "metadata": {},
   "outputs": [
    {
     "name": "stdout",
     "output_type": "stream",
     "text": [
      "Running predefined test cases...\n",
      "\n",
      "Test Case 1: x1 = 0, v1 = 3, x2 = 4, v2 = 2\n",
      "Result: YES\n",
      "------------------------------\n",
      "Test Case 2: x1 = 0, v1 = 2, x2 = 5, v2 = 3\n",
      "Result: NO\n",
      "------------------------------\n",
      "Test Case 3: x1 = 21, v1 = 6, x2 = 47, v2 = 3\n",
      "Result: NO\n",
      "------------------------------\n",
      "Test Case 4: x1 = 0, v1 = 5, x2 = 10, v2 = 2\n",
      "Result: NO\n",
      "------------------------------\n",
      "Test Case 5: x1 = 2, v1 = 1, x2 = 1, v2 = 2\n",
      "Result: YES\n",
      "------------------------------\n"
     ]
    }
   ],
   "source": [
    "print(\"Running predefined test cases...\\n\")\n",
    "for i, (x1, v1, x2, v2) in enumerate(test_cases, start=1):\n",
    "    print(f\"Test Case {i}: x1 = {x1}, v1 = {v1}, x2 = {x2}, v2 = {v2}\")\n",
    "    print(\"Result:\", kangaroo(x1, v1, x2, v2))\n",
    "    print(\"-\" * 30)"
   ]
  }
 ],
 "metadata": {
  "kernelspec": {
   "display_name": "Python [conda env:base] *",
   "language": "python",
   "name": "conda-base-py"
  },
  "language_info": {
   "codemirror_mode": {
    "name": "ipython",
    "version": 3
   },
   "file_extension": ".py",
   "mimetype": "text/x-python",
   "name": "python",
   "nbconvert_exporter": "python",
   "pygments_lexer": "ipython3",
   "version": "3.12.7"
  }
 },
 "nbformat": 4,
 "nbformat_minor": 5
}
