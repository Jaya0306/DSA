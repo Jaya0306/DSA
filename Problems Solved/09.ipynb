{
 "cells": [
  {
   "cell_type": "markdown",
   "id": "0c51f292-64b3-4190-a043-c4688b93e6b1",
   "metadata": {},
   "source": [
    "An avid hiker keeps meticulous records of their hikes. During the last hike that took exactly steps, for every step it was noted if it was an uphill, U, or a downhill, D step. Hikes always start and end at sea level, and each step up or down represents a 1 unit change in altitude. We define the following terms:\n",
    "\n",
    "* A mountain is a sequence of consecutive steps above sea level, starting with a step up from sea level and ending with a step down to sea level.\n",
    "* A valley is a sequence of consecutive steps below sea level, starting with a step down from sea level and ending with a step up to sea level.\n",
    "\n",
    "Given the sequence of up and down steps during a hike, find and print the number of valleys walked through."
   ]
  },
  {
   "cell_type": "code",
   "execution_count": 2,
   "id": "55282d88-0c03-4e52-bee6-f3fb64dc943f",
   "metadata": {},
   "outputs": [],
   "source": [
    "def countingValleys(steps, path):\n",
    "    valley_count = 0\n",
    "    altitude = 0\n",
    "\n",
    "    for step in path:\n",
    "        if step == 'U':\n",
    "            altitude += 1\n",
    "        else:  # step == 'D'\n",
    "            altitude -= 1\n",
    "\n",
    "        # Check if we just exited a valley (came up to sea level)\n",
    "        if altitude == 0 and step == 'U':\n",
    "            valley_count += 1\n",
    "\n",
    "    return valley_count"
   ]
  },
  {
   "cell_type": "code",
   "execution_count": 3,
   "id": "bea3225c-e6cb-490a-8f74-f3e1860d1eb0",
   "metadata": {},
   "outputs": [],
   "source": [
    "# Predefined test cases\n",
    "test_cases = [\n",
    "    (5, \"UUUUU\", 0),   # No valleys\n",
    "    (8, \"UDDDUDUU\", 1),  # One valley\n",
    "    (12, \"DDUUDDUDUUUD\", 2),  # Two valleys\n",
    "    (10, \"DDDDDDUUUU\", 0),  # not reached surface\n",
    "    (14, \"DUDUDUDUDUDUDU\", 7),  # Multiple valleys\n",
    "    (6, \"UUDDUU\", 0),  # No valleys\n",
    "    (9, \"UUUUUDDDD\", 0),  # Up then down, no valleys\n",
    "    (1, \"U\", 0),  # Single step hike\n",
    "]"
   ]
  },
  {
   "cell_type": "code",
   "execution_count": 4,
   "id": "f92af086-3f26-4765-94ac-356fc9138278",
   "metadata": {},
   "outputs": [
    {
     "name": "stdout",
     "output_type": "stream",
     "text": [
      "Running predefined test cases:\n",
      "Test Case 1: UUUUU → Expected: 0, Got: 0\n",
      "Test Case 2: UDDDUDUU → Expected: 1, Got: 1\n",
      "Test Case 3: DDUUDDUDUUUD → Expected: 2, Got: 2\n",
      "Test Case 4: DDDDDDUUUU → Expected: 0, Got: 0\n",
      "Test Case 5: DUDUDUDUDUDUDU → Expected: 7, Got: 7\n",
      "Test Case 6: UUDDUU → Expected: 0, Got: 0\n",
      "Test Case 7: UUUUUDDDD → Expected: 0, Got: 0\n",
      "Test Case 8: U → Expected: 0, Got: 0\n"
     ]
    }
   ],
   "source": [
    "# Running predefined test cases\n",
    "print(\"Running predefined test cases:\")\n",
    "for i, (steps, path, expected) in enumerate(test_cases, 1):\n",
    "    result = countingValleys(steps, path)\n",
    "    print(f\"Test Case {i}: {path} → Expected: {expected}, Got: {result}\")"
   ]
  },
  {
   "cell_type": "markdown",
   "id": "af89b4e7-429f-4f15-a399-e94873797974",
   "metadata": {},
   "source": [
    "A person wants to determine the most expensive computer keyboard and USB drive that can be purchased with a give budget. Given price lists for keyboards and USB drives and a budget, find the cost to buy them. If it is not possible to buy both items, return -1.\n",
    "\n",
    "Example\n",
    "b = 60<br>\n",
    "keyboards = [40,50,60]<br>\n",
    "drives = [5,8,12]<br>\n",
    "\n",
    "The person can buy a 40 keyboards + 12 USB = 52, or a 50 keyboards + 8 USB = 58. Choose the latter as the more expensive option and return 58."
   ]
  },
  {
   "cell_type": "code",
   "execution_count": 6,
   "id": "7e210d1a-a735-424c-a2dd-446c3a867e3a",
   "metadata": {},
   "outputs": [],
   "source": [
    "def getMoneySpent(keyboards, drives, b):\n",
    "    max_spent = -1\n",
    "    keyboards.sort(reverse = True)\n",
    "    drives.sort()\n",
    "    i = j = 0\n",
    "\n",
    "    while i < len(keyboards) and j < len(drives):\n",
    "        total = keyboards[i] + drives[j]\n",
    "\n",
    "        if total > b:\n",
    "            i += 1\n",
    "        else:\n",
    "            max_spent = max(max_spent, total)\n",
    "            j += 1\n",
    "\n",
    "    return max_spent"
   ]
  },
  {
   "cell_type": "code",
   "execution_count": 7,
   "id": "a11a7ed9-1668-4949-949a-56e5bec91a4f",
   "metadata": {},
   "outputs": [
    {
     "name": "stdout",
     "output_type": "stream",
     "text": [
      "9\n",
      "-1\n",
      "10\n",
      "9\n",
      "68\n",
      "10\n",
      "-1\n"
     ]
    }
   ],
   "source": [
    "# Test Case 1: Standard Case\n",
    "print(getMoneySpent([3, 1], [5, 2, 8], 10))  # Expected Output: 9\n",
    "\n",
    "# Test Case 2: No possible purchase\n",
    "print(getMoneySpent([4], [5], 5))  # Expected Output: -1\n",
    "\n",
    "# Test Case 3: Multiple valid options\n",
    "print(getMoneySpent([4, 6, 2], [3, 1, 8], 10))  # Expected Output: 10\n",
    "\n",
    "# Test Case 4: Exact Budget Match\n",
    "print(getMoneySpent([3, 5, 7], [2, 4, 6], 9))  # Expected Output: 9\n",
    "\n",
    "# Test Case 5: Large budget (should return the most expensive combination)\n",
    "print(getMoneySpent([40, 50, 60], [5, 8, 12], 70))  # Expected Output: 68\n",
    "\n",
    "# Test Case 6: Single element lists\n",
    "print(getMoneySpent([5], [5], 10))  # Expected Output: 10\n",
    "\n",
    "# Test Case 7: Single element lists but over budget\n",
    "print(getMoneySpent([10], [10], 10))  # Expected Output: -1"
   ]
  }
 ],
 "metadata": {
  "kernelspec": {
   "display_name": "Python [conda env:base] *",
   "language": "python",
   "name": "conda-base-py"
  },
  "language_info": {
   "codemirror_mode": {
    "name": "ipython",
    "version": 3
   },
   "file_extension": ".py",
   "mimetype": "text/x-python",
   "name": "python",
   "nbconvert_exporter": "python",
   "pygments_lexer": "ipython3",
   "version": "3.12.7"
  }
 },
 "nbformat": 4,
 "nbformat_minor": 5
}
