{
 "cells": [
  {
   "cell_type": "markdown",
   "id": "bcf87e4c-d357-4cfc-b3bd-19c1929b0439",
   "metadata": {},
   "source": [
    "## Decimal to Binary and counting the number of one's and it's position "
   ]
  },
  {
   "cell_type": "code",
   "execution_count": 1,
   "id": "66791272-048b-4378-84a3-7a0cc1d645fd",
   "metadata": {},
   "outputs": [],
   "source": [
    "def dec_to_bi(num):\n",
    "    if num == 0:\n",
    "        return \"0\"\n",
    "    if num == 1:\n",
    "        return \"1\"\n",
    "    return dec_to_bi(num//2) + str(num%2)"
   ]
  },
  {
   "cell_type": "code",
   "execution_count": 2,
   "id": "2a164b3a-ba9f-4d87-8752-953660ee8f5c",
   "metadata": {},
   "outputs": [],
   "source": [
    "def get_one(n):\n",
    "    l = []\n",
    "    count = 0\n",
    "    binary = dec_to_bi(n)\n",
    "    for i in range(len(binary)):\n",
    "        if binary[i] == \"1\":\n",
    "            l.append(i+1)\n",
    "            count=count+1\n",
    "    l.insert(0,count)\n",
    "    return binary,l"
   ]
  },
  {
   "cell_type": "code",
   "execution_count": 3,
   "id": "b7de2cb4-ee6f-4e3a-932a-d7eb645ca243",
   "metadata": {},
   "outputs": [
    {
     "name": "stdout",
     "output_type": "stream",
     "text": [
      "binary: 110010\n",
      "NUmber of one: 3\n",
      "indexes: [1, 2, 5]\n"
     ]
    }
   ],
   "source": [
    "n = 50\n",
    "bin, list = get_one(n)\n",
    "print(f'binary: {bin}\\nNUmber of one: {list[0]}\\nindexes: {list[1:]}')"
   ]
  },
  {
   "cell_type": "markdown",
   "id": "ddae9dbc-b91f-442e-b8b6-be3aedeb9f78",
   "metadata": {},
   "source": [
    "## Decimal to Roman Number"
   ]
  },
  {
   "cell_type": "code",
   "execution_count": 4,
   "id": "3ad364a3-b795-4810-b1f5-a46a82aeab0a",
   "metadata": {},
   "outputs": [],
   "source": [
    "def dec_to_roman(num):\n",
    "    val = [1000,900,500,400,\n",
    "           100,90,50,40,\n",
    "           10,9,5,4,1]\n",
    "    symbols = [\"M\",\"CM\",\"D\",\"CD\",\n",
    "               \"C\",\"XC\",\"L\",\"XL\",\n",
    "               \"X\",\"IX\",\"V\",\"IV\",\"I\"]\n",
    "    roman = \"\"\n",
    "    for i in range(len(val)):\n",
    "        while num >= val[i]:\n",
    "            roman = roman + symbols[i]\n",
    "            num = num - val[i]\n",
    "    return roman"
   ]
  },
  {
   "cell_type": "code",
   "execution_count": 5,
   "id": "dfe8fa55-5fdf-448e-bfaf-ab6c04dff62b",
   "metadata": {},
   "outputs": [
    {
     "name": "stdout",
     "output_type": "stream",
     "text": [
      "DCC\n"
     ]
    }
   ],
   "source": [
    "n = 700\n",
    "roman_num = dec_to_roman(n)\n",
    "print(roman_num)"
   ]
  },
  {
   "cell_type": "code",
   "execution_count": null,
   "id": "fbd5ade0-568c-4c72-b202-6d754294448a",
   "metadata": {},
   "outputs": [],
   "source": []
  }
 ],
 "metadata": {
  "kernelspec": {
   "display_name": "Python 3 (ipykernel)",
   "language": "python",
   "name": "python3"
  },
  "language_info": {
   "codemirror_mode": {
    "name": "ipython",
    "version": 3
   },
   "file_extension": ".py",
   "mimetype": "text/x-python",
   "name": "python",
   "nbconvert_exporter": "python",
   "pygments_lexer": "ipython3",
   "version": "3.12.3"
  }
 },
 "nbformat": 4,
 "nbformat_minor": 5
}
