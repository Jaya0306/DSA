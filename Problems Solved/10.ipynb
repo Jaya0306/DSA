{
 "cells": [
  {
   "cell_type": "markdown",
   "id": "c21094ad-83d7-42ec-bdbb-4049011990e9",
   "metadata": {},
   "source": [
    "Two cats and a mouse are at various positions on a line. You will be given their starting positions. Your task is to determine which cat will reach the mouse first, assuming the mouse does not move and the cats travel at equal speed. If the cats arrive at the same time, the mouse will be allowed to move and it will escape while they fight.\n",
    "\n",
    "You are given q queries in the form of x, y, and z representing the respective positions for cats A and B, and for mouse C. Complete the function catAndMouse to return the appropriate answer to each query, which will be printed on a new line.\n",
    "\n",
    "* If cat  catches the mouse first, print Cat A.\n",
    "* If cat  catches the mouse first, print Cat B.\n",
    "* If both cats reach the mouse at the same time, print Mouse C as the two cats fight and mouse escapes."
   ]
  },
  {
   "cell_type": "code",
   "execution_count": 2,
   "id": "37ff03ac-fb9d-40ce-b3d7-13d7ef62226d",
   "metadata": {},
   "outputs": [],
   "source": [
    "def catAndMouse(x, y, z):\n",
    "    cat_A = abs(z-x)\n",
    "    cat_B = abs(z-y)\n",
    "    if cat_A < cat_B:\n",
    "        return 'Cat A'\n",
    "    elif cat_B < cat_A:\n",
    "        return 'Cat B'\n",
    "    else:\n",
    "        return 'Mouse C'"
   ]
  },
  {
   "cell_type": "code",
   "execution_count": 3,
   "id": "f84594fe-8e6b-4fa5-b1d1-3f34a21d1dc4",
   "metadata": {},
   "outputs": [
    {
     "name": "stdout",
     "output_type": "stream",
     "text": [
      "Cat B\n",
      "Mouse C\n"
     ]
    }
   ],
   "source": [
    "queries = [(1, 2, 3), (1, 3, 2)]\n",
    "for x, y, z in queries:\n",
    "    print(catAndMouse(x, y, z))"
   ]
  },
  {
   "cell_type": "markdown",
   "id": "9fd94405-f3d6-419d-9de3-9fc746aa7ee3",
   "metadata": {},
   "source": [
    "A video player plays a game in which the character competes in a hurdle race. Hurdles are of varying heights, and the characters have a maximum height they can jump. There is a magic potion they can take that will increase their maximum jump height by 1 unit for each dose. How many doses of the potion must the character take to be able to jump all of the hurdles. If the character can already clear all of the hurdles, return 0.\n",
    "\n",
    "Example:<br>\n",
    "height = [1,2,3,3,2]<br>\n",
    "k = 1<br>\n",
    "The character can jump 1 unit high initially and must take 3 - 1 = 2 doses of potion to be able to jump all of the hurdles."
   ]
  },
  {
   "cell_type": "code",
   "execution_count": 5,
   "id": "12430dbf-e5c5-4a0f-be20-6cbda34f1862",
   "metadata": {},
   "outputs": [],
   "source": [
    "def hurdleRace(k, height):\n",
    "    # Write your code here\n",
    "    max_height = max(height)\n",
    "    return max(0, max_height-k)"
   ]
  },
  {
   "cell_type": "code",
   "execution_count": 6,
   "id": "35df96e3-ed5c-4b24-9bd5-3de1285494e2",
   "metadata": {},
   "outputs": [
    {
     "name": "stdout",
     "output_type": "stream",
     "text": [
      "2\n",
      "0\n"
     ]
    }
   ],
   "source": [
    "# Sample Test Cases\n",
    "print(hurdleRace(4, [1, 6, 3, 5, 2]))  # Output: 2\n",
    "print(hurdleRace(7, [2, 5, 4, 5, 2]))  # Output: 0"
   ]
  }
 ],
 "metadata": {
  "kernelspec": {
   "display_name": "Python [conda env:base] *",
   "language": "python",
   "name": "conda-base-py"
  },
  "language_info": {
   "codemirror_mode": {
    "name": "ipython",
    "version": 3
   },
   "file_extension": ".py",
   "mimetype": "text/x-python",
   "name": "python",
   "nbconvert_exporter": "python",
   "pygments_lexer": "ipython3",
   "version": "3.12.7"
  }
 },
 "nbformat": 4,
 "nbformat_minor": 5
}
