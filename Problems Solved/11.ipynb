{
 "cells": [
  {
   "cell_type": "markdown",
   "id": "ca539440-3d20-4b83-af35-7974a3af084d",
   "metadata": {},
   "source": [
    "When a contiguous block of text is selected in a PDF viewer, the selection is highlighted with a blue rectangle. In this PDF viewer, each word is highlighted independently.\n",
    "\n",
    "There is a list of 26 character heights aligned by index to their letters. For example, 'a' is at index 0 and 'z' is at index 25. There will also be a string. Using the letter heights given, determine the area of the rectangle highlight in mm2 assuming all letters are 1mm wide.\n",
    "\n",
    "Example:<br>\n",
    "h = [1,3,1,3,1,4,1,3,2,5,5,5,5,1,1,5,5,1,5,2,5,5,5,5,5,5]<br>\n",
    "word = 'torn'\n",
    "\n",
    "The heights are t=2,o=1,r=1 and n=1. The tallest letter is 2 high and there are  letters. The hightlighted area will be 2*4=8mm2 so the answer is 8."
   ]
  },
  {
   "cell_type": "code",
   "execution_count": 2,
   "id": "9f678719-0f4a-4fe1-a17b-311b5efc90b3",
   "metadata": {},
   "outputs": [],
   "source": [
    "def designerPdfViewer(h, word):\n",
    "    max_height = max(h[ord(char) - ord('a')] for char in word)\n",
    "    return max_height*len(word)"
   ]
  },
  {
   "cell_type": "code",
   "execution_count": 3,
   "id": "e970996f-34cb-4ba6-9705-9b6bc0d3c64a",
   "metadata": {},
   "outputs": [
    {
     "name": "stdout",
     "output_type": "stream",
     "text": [
      "9\n",
      "28\n"
     ]
    }
   ],
   "source": [
    "# Sample Input 0\n",
    "h = [1, 3, 1, 3, 1, 4, 1, 3, 2, 5, 5, 5, 5, 5, 5, 5, 5, 5, 5, 5, 5, 5, 5, 5, 5, 5]\n",
    "word = \"abc\"\n",
    "print(designerPdfViewer(h, word))  # Output: 9\n",
    "\n",
    "# Sample Input 1\n",
    "h = [1, 3, 1, 3, 1, 4, 1, 3, 2, 5, 5, 5, 5, 5, 5, 5, 5, 5, 5, 5, 5, 5, 5, 5, 5, 7]\n",
    "word = \"zaba\"\n",
    "print(designerPdfViewer(h, word))  # Output: 28"
   ]
  },
  {
   "cell_type": "markdown",
   "id": "2fbcc0b0-1189-4a98-975f-3b0e4b7626fb",
   "metadata": {},
   "source": [
    "The Utopian Tree goes through 2 cycles of growth every year. Each spring, it doubles in height. Each summer, its height increases by 1 meter.A Utopian Tree sapling with a height of 1 meter is planted at the onset of spring. How tall will the tree be after  growth cycles?\n",
    "\n",
    "For example, if the number of growth cycles is n, the calculations are as follows:<br>\n",
    "| Period | Height |\n",
    "|--------|--------|\n",
    "| 0      | 1      |\n",
    "| 1      | 2      |\n",
    "| 2      | 3      |\n",
    "| 3      | 6      |\n",
    "| 4      | 7      |\n",
    "| 5      | 14     |\n"
   ]
  },
  {
   "cell_type": "code",
   "execution_count": 5,
   "id": "b3b1cde9-74fc-4d99-980d-5591c5bddb20",
   "metadata": {},
   "outputs": [],
   "source": [
    "def utopianTree(n):\n",
    "    height = 1\n",
    "    for i in range(n):\n",
    "        if i%2 ==0:\n",
    "            height *=2\n",
    "        else:\n",
    "            height +=1\n",
    "    return height"
   ]
  },
  {
   "cell_type": "code",
   "execution_count": 6,
   "id": "76bd9e9e-a4c4-4685-806a-b7cc6959b9c2",
   "metadata": {},
   "outputs": [
    {
     "name": "stdout",
     "output_type": "stream",
     "text": [
      "1\n",
      "2\n",
      "7\n"
     ]
    }
   ],
   "source": [
    "# Sample Input\n",
    "test_cases = [0, 1, 4]\n",
    "for n in test_cases:\n",
    "    print(utopianTree(n))"
   ]
  }
 ],
 "metadata": {
  "kernelspec": {
   "display_name": "Python [conda env:base] *",
   "language": "python",
   "name": "conda-base-py"
  },
  "language_info": {
   "codemirror_mode": {
    "name": "ipython",
    "version": 3
   },
   "file_extension": ".py",
   "mimetype": "text/x-python",
   "name": "python",
   "nbconvert_exporter": "python",
   "pygments_lexer": "ipython3",
   "version": "3.12.7"
  }
 },
 "nbformat": 4,
 "nbformat_minor": 5
}
