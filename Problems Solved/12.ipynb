{
 "cells": [
  {
   "cell_type": "markdown",
   "id": "e8485e08-68d5-468d-90a7-7d31e5c08caa",
   "metadata": {},
   "source": [
    "A Discrete Mathematics professor has a class of students. Frustrated with their lack of discipline, the professor decides to cancel class if fewer than some number of students are present when class starts. Arrival times go from on time (arrivalTime <= 0) to arrived late (arrivalTime > 0).\n",
    "\n",
    "Given the arrival time of each student and a threshhold number of attendees, determine if the class is cancelled.\n",
    "\n",
    "Example:<br>\n",
    "n = 5<br>\n",
    "k = 3<br>\n",
    "a = [-2,-1,0,1,2]<br>\n",
    "The first 3 students arrived on. The last 2 were late. The threshold is 3 students, so class will go on. Return YES.\n",
    "\n",
    "Note: Non-positive arrival times (a[i]<=0) indicate the student arrived early or on time; positive arrival times (a[i]>0) indicate the student arrived a[i] minutes late."
   ]
  },
  {
   "cell_type": "code",
   "execution_count": 1,
   "id": "b83901eb-78e1-43ed-8259-128f6a0e4198",
   "metadata": {},
   "outputs": [],
   "source": [
    "def angryProfessor(k, a):\n",
    "    on_time_students = sum(1 for time in a if time <= 0)\n",
    "    return 'NO' if on_time_students >= k else 'YES'"
   ]
  },
  {
   "cell_type": "code",
   "execution_count": 3,
   "id": "58d1f9d3-13cd-462e-b2b9-519cca25aaca",
   "metadata": {},
   "outputs": [],
   "source": [
    "# Sample test cases\n",
    "test_cases = [\n",
    "    (4, 3, [-1, -3, 4, 2]),  # Expected output: \"YES\"\n",
    "    (4, 2, [0, -1, 2, 1])    # Expected output: \"NO\"\n",
    "]"
   ]
  },
  {
   "cell_type": "code",
   "execution_count": 5,
   "id": "d1b55d82-b064-4431-903b-74dcfba0c90f",
   "metadata": {},
   "outputs": [
    {
     "name": "stdout",
     "output_type": "stream",
     "text": [
      "YES\n",
      "NO\n"
     ]
    }
   ],
   "source": [
    "for n, k, a in test_cases:\n",
    "    print(angryProfessor(k, a))"
   ]
  },
  {
   "cell_type": "markdown",
   "id": "776070fb-38a5-4124-862b-89a71c9f3f73",
   "metadata": {},
   "source": [
    "Lily likes to play games with integers. She has created a new game where she determines the difference between a number and its reverse. For instance, given the number 12, its reverse is 21. Their difference is 9. The number 120 reversed is 21, and their difference is 99.\n",
    "\n",
    "She decides to apply her game to decision making. She will look at a numbered range of days and will only go to a movie on a beautiful day.\n",
    "\n",
    "Given a range of numbered days, [i...j] and a number k, determine the number of days in the range that are beautiful. Beautiful numbers are defined as numbers where |i-reversed(i)| is evenly divisible by k. If a day's value is a beautiful number, it is a beautiful day. Return the number of beautiful days in the range."
   ]
  },
  {
   "cell_type": "code",
   "execution_count": 7,
   "id": "a28c586a-04a7-40e3-8aed-8a664208a092",
   "metadata": {},
   "outputs": [],
   "source": [
    "def beautifulDays(i, j, k):\n",
    "    beautiful_days = 0\n",
    "    for num in range(i, j+1): \n",
    "        reversed_num = int(str(num)[::-1])\n",
    "        if abs(num - reversed_num) % k == 0:\n",
    "            beautiful_days += 1\n",
    "    return beautiful_days"
   ]
  },
  {
   "cell_type": "code",
   "execution_count": 9,
   "id": "41e17ac7-6d52-443c-af40-95811762d652",
   "metadata": {},
   "outputs": [
    {
     "name": "stdout",
     "output_type": "stream",
     "text": [
      "2\n"
     ]
    }
   ],
   "source": [
    "# Sample Input\n",
    "print(beautifulDays(20, 23, 6))  # Output: 2"
   ]
  }
 ],
 "metadata": {
  "kernelspec": {
   "display_name": "Python [conda env:base] *",
   "language": "python",
   "name": "conda-base-py"
  },
  "language_info": {
   "codemirror_mode": {
    "name": "ipython",
    "version": 3
   },
   "file_extension": ".py",
   "mimetype": "text/x-python",
   "name": "python",
   "nbconvert_exporter": "python",
   "pygments_lexer": "ipython3",
   "version": "3.12.7"
  }
 },
 "nbformat": 4,
 "nbformat_minor": 5
}
