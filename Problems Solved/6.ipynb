{
 "cells": [
  {
   "cell_type": "markdown",
   "id": "1c1c11a2-97b4-4307-a683-c21769f36f64",
   "metadata": {},
   "source": [
    "Two children, Lily and Ron, want to share a chocolate bar. Each of the squares has an integer on it.\n",
    "\n",
    "Lily decides to share a contiguous segment of the bar selected such that:\n",
    "* The length of the segment matches Ron's birth month, and,\n",
    "* The sum of the integers on the squares is equal to his birth day.\n",
    "\n",
    "Determine how many ways she can divide the chocolate.\n",
    "\n",
    "Example:<br>\n",
    "s = [2, 2, 1, 3, 2]<br>\n",
    "d = 4<br>\n",
    "m = 2<br>\n",
    "Lily wants to find segments summing to Ron's birth day, d = 4 with a length equalling his birth month, m = 2. In this case, there are two segments meeting her criteria: [2, 2] and [1, 3]."
   ]
  },
  {
   "cell_type": "code",
   "execution_count": 1,
   "id": "80137c1d-ee89-458d-8a0c-ab008bb83ebf",
   "metadata": {},
   "outputs": [],
   "source": [
    "def birthday(s, d, m):\n",
    "    if m > len(s):\n",
    "        return 0\n",
    "    current_sum = sum(s[:m])\n",
    "    count = 1 if current_sum == d else 0\n",
    "\n",
    "    for i in range(m, len(s)):\n",
    "        current_sum += s[i] - s[i - m]\n",
    "        if current_sum == d:\n",
    "            count += 1\n",
    "\n",
    "    return count"
   ]
  },
  {
   "cell_type": "code",
   "execution_count": 3,
   "id": "7590bc8a-7451-4a22-819f-2390a37cfadb",
   "metadata": {},
   "outputs": [
    {
     "name": "stdin",
     "output_type": "stream",
     "text": [
      " 5\n",
      " 1 2 1 3 2\n",
      " 3 2\n"
     ]
    }
   ],
   "source": [
    "n = int(input())  # Number of squares\n",
    "s = list(map(int, input().split()))  # Chocolate values\n",
    "d, m = map(int, input().split())  # Ron's birthday (sum) and birth month (window size)"
   ]
  },
  {
   "cell_type": "code",
   "execution_count": 5,
   "id": "491cfc71-3745-4508-9755-d2e463d5c2b6",
   "metadata": {},
   "outputs": [
    {
     "name": "stdout",
     "output_type": "stream",
     "text": [
      "2\n"
     ]
    }
   ],
   "source": [
    "print(birthday(s, d, m))"
   ]
  },
  {
   "cell_type": "markdown",
   "id": "3e961344-9e17-434a-862a-ea21c432f512",
   "metadata": {},
   "source": [
    "Given an array of integers and a positive integer k, determine the number of (i, j) pairs where i < j and ar[i] + ar[j] is divisible by k.\n",
    "\n",
    "Example:<br>\n",
    "ar = [1, 2, 3, 4, 5, 6]<br>\n",
    "k = 5\n",
    "\n",
    "Three pairs meet the criteria: [1, 4], [2, 3] and [4, 6]."
   ]
  },
  {
   "cell_type": "code",
   "execution_count": 7,
   "id": "058292e1-5fc6-412c-ab78-92767b8add10",
   "metadata": {},
   "outputs": [],
   "source": [
    "def divisibleSumPairs(n, k, ar):\n",
    "    remainder_count = [0] * k\n",
    "    count = 0\n",
    "    for num in ar:\n",
    "        remainder = num % k\n",
    "        complement = (k - remainder) % k\n",
    "        count += remainder_count[complement]\n",
    "        remainder_count[remainder] += 1\n",
    "    return count"
   ]
  },
  {
   "cell_type": "code",
   "execution_count": 9,
   "id": "3f67e543-a58f-4b9b-9326-fba9c8a41018",
   "metadata": {},
   "outputs": [
    {
     "name": "stdin",
     "output_type": "stream",
     "text": [
      " 6 3\n",
      " 1 3 2 6 1 2\n"
     ]
    }
   ],
   "source": [
    "n, k = map(int, input().split())\n",
    "ar = list(map(int, input().split()))"
   ]
  },
  {
   "cell_type": "code",
   "execution_count": 11,
   "id": "68d36798-34d3-49a0-a483-4735efa1b037",
   "metadata": {},
   "outputs": [
    {
     "name": "stdout",
     "output_type": "stream",
     "text": [
      "5\n"
     ]
    }
   ],
   "source": [
    "print(divisibleSumPairs(n, k, ar))"
   ]
  }
 ],
 "metadata": {
  "kernelspec": {
   "display_name": "Python [conda env:base] *",
   "language": "python",
   "name": "conda-base-py"
  },
  "language_info": {
   "codemirror_mode": {
    "name": "ipython",
    "version": 3
   },
   "file_extension": ".py",
   "mimetype": "text/x-python",
   "name": "python",
   "nbconvert_exporter": "python",
   "pygments_lexer": "ipython3",
   "version": "3.12.7"
  }
 },
 "nbformat": 4,
 "nbformat_minor": 5
}
