{
 "cells": [
  {
   "cell_type": "markdown",
   "id": "e9b99706-5f67-4254-b227-3fc17a2248b3",
   "metadata": {},
   "source": [
    "Two friends Anna and Brian, are deciding how to split the bill at a dinner. Each will only pay for the items they consume. Brian gets the check and calculates Anna's portion. You must determine if his calculation is correct.\n",
    "\n",
    "For example, assume the bill has the following prices: bill = [2, 4, 6]. Anna declines to eat item k = bill[2] which costs 6. If Brian calculates the bill correctly, Anna will pay (2+4)//2 = 3. If he includes the cost of bii[2], he will calculate (2+4+6)//2 = 6. In the second case, he should refund 3 to Anna."
   ]
  },
  {
   "cell_type": "code",
   "execution_count": 1,
   "id": "df031ca4-6f1e-4ee6-bac0-a96d4ca356cb",
   "metadata": {},
   "outputs": [],
   "source": [
    "def bonAppetit(bill, k, b):\n",
    "    # Step 1: Compute the actual cost Anna should pay\n",
    "    correct_share = (sum(bill) - bill[k]) // 2  # Exclude item `k` and divide by 2\n",
    "    \n",
    "    # Step 2: Compare with charged amount `b`\n",
    "    if b == correct_share:\n",
    "        print(\"Bon Appetit\")\n",
    "    else:\n",
    "        print(b - correct_share)  # Amount to refund"
   ]
  },
  {
   "cell_type": "code",
   "execution_count": 3,
   "id": "342bf626-4e80-4d25-972b-e809aaec2e1f",
   "metadata": {},
   "outputs": [],
   "source": [
    "bill = [3, 10, 2, 9]\n",
    "k = 1  # Anna didn't eat the item at index 1 (cost 10)\n",
    "b = 12  # Brian charged her 12"
   ]
  },
  {
   "cell_type": "code",
   "execution_count": 5,
   "id": "3ccbab50-66fb-4747-8202-0b5b4614c209",
   "metadata": {},
   "outputs": [
    {
     "name": "stdout",
     "output_type": "stream",
     "text": [
      "5\n"
     ]
    }
   ],
   "source": [
    "bonAppetit(bill, k, b)"
   ]
  },
  {
   "cell_type": "code",
   "execution_count": 7,
   "id": "2a6fbe23-e3af-40ea-a592-5e6f7f64cedc",
   "metadata": {},
   "outputs": [],
   "source": [
    "bill = [3, 10, 2, 9]\n",
    "k = 1\n",
    "b = 7    "
   ]
  },
  {
   "cell_type": "code",
   "execution_count": 9,
   "id": "b0266c3d-4506-4bfa-b3e1-f840a7f5134b",
   "metadata": {},
   "outputs": [
    {
     "name": "stdout",
     "output_type": "stream",
     "text": [
      "Bon Appetit\n"
     ]
    }
   ],
   "source": [
    "bonAppetit(bill, k, b)"
   ]
  },
  {
   "cell_type": "markdown",
   "id": "5a3e5cda-0705-4359-90bb-faf92eba43e8",
   "metadata": {},
   "source": [
    "There is a large pile of socks that must be paired by color. Given an array of integers representing the color of each sock, determine how many pairs of socks with matching colors there are.\n",
    "\n",
    "Example:<br>\n",
    "n = 7<br>\n",
    "ar = [1,2,1,2,1,3,2]\n",
    "\n",
    "There is one pair of color 1 and one of color 2. There are three odd socks left, one of each color. The number of pairs is 2."
   ]
  },
  {
   "cell_type": "code",
   "execution_count": 11,
   "id": "614fe423-ddab-4900-9c2a-7ad15b65bcb0",
   "metadata": {},
   "outputs": [],
   "source": [
    "from collections import Counter\n",
    "\n",
    "def sockMerchant(n, ar):\n",
    "    # Count occurrences of each sock color\n",
    "    sock_counts = Counter(ar)\n",
    "    \n",
    "    # Calculate the number of pairs for each color\n",
    "    pairs = sum(count // 2 for count in sock_counts.values())\n",
    "    \n",
    "    return pairs"
   ]
  },
  {
   "cell_type": "code",
   "execution_count": 13,
   "id": "7caa2549-dfd8-4bd5-9fb5-653220a0ccac",
   "metadata": {},
   "outputs": [],
   "source": [
    "test_cases = [\n",
    "    ([10, 20, 20, 10, 10, 30, 50, 10, 20], 9),  # Expected output: 3\n",
    "    ([1, 2, 3, 4, 5, 6], 6),                   # Expected output: 0 (no pairs)\n",
    "    ([5, 5, 5, 5, 5, 5], 6),                   # Expected output: 3 (all same color)\n",
    "    ([7, 7, 7, 7, 8, 8, 9, 9, 9, 9, 10, 10], 12),  # Expected output: 5\n",
    "    ([], 0),                                   # Expected output: 0 (empty array)\n",
    "    ([1, 1, 2, 2, 3, 3, 4, 4, 5, 5, 5, 5], 12) # Expected output: 6 (multiple pairs)\n",
    "]"
   ]
  },
  {
   "cell_type": "code",
   "execution_count": 15,
   "id": "f8c34238-168f-4b7b-a40d-4a783fb366a7",
   "metadata": {},
   "outputs": [
    {
     "name": "stdout",
     "output_type": "stream",
     "text": [
      "Input: [10, 20, 20, 10, 10, 30, 50, 10, 20]\n",
      "Output: 3\n",
      "\n",
      "Input: [1, 2, 3, 4, 5, 6]\n",
      "Output: 0\n",
      "\n",
      "Input: [5, 5, 5, 5, 5, 5]\n",
      "Output: 3\n",
      "\n",
      "Input: [7, 7, 7, 7, 8, 8, 9, 9, 9, 9, 10, 10]\n",
      "Output: 6\n",
      "\n",
      "Input: []\n",
      "Output: 0\n",
      "\n",
      "Input: [1, 1, 2, 2, 3, 3, 4, 4, 5, 5, 5, 5]\n",
      "Output: 6\n",
      "\n"
     ]
    }
   ],
   "source": [
    "# Running test cases\n",
    "for socks, n in test_cases:\n",
    "    print(f\"Input: {socks}\")\n",
    "    print(f\"Output: {sockMerchant(n, socks)}\\n\")"
   ]
  }
 ],
 "metadata": {
  "kernelspec": {
   "display_name": "Python [conda env:base] *",
   "language": "python",
   "name": "conda-base-py"
  },
  "language_info": {
   "codemirror_mode": {
    "name": "ipython",
    "version": 3
   },
   "file_extension": ".py",
   "mimetype": "text/x-python",
   "name": "python",
   "nbconvert_exporter": "python",
   "pygments_lexer": "ipython3",
   "version": "3.12.7"
  }
 },
 "nbformat": 4,
 "nbformat_minor": 5
}
