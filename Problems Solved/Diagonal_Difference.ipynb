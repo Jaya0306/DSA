{
 "cells": [
  {
   "cell_type": "code",
   "execution_count": 1,
   "id": "2915788d-bb6c-47cc-add8-59bfdb4387a8",
   "metadata": {},
   "outputs": [],
   "source": [
    "def diagonalDifference(arr):\n",
    "    n = len(arr)\n",
    "    left_diagonal = sum(arr[i][i] for i in range(n))\n",
    "    right_diagonal = sum(arr[i][n-1-i] for i in range(n))\n",
    "    return abs(left_diagonal - right_diagonal)"
   ]
  },
  {
   "cell_type": "code",
   "execution_count": 2,
   "id": "cb6c8988-72b1-4476-b4c4-b8681bd1b575",
   "metadata": {},
   "outputs": [
    {
     "name": "stdin",
     "output_type": "stream",
     "text": [
      " 3\n",
      " 11 2 4\n",
      " 4 5 6\n",
      " 10 8 -12\n"
     ]
    }
   ],
   "source": [
    "n = int(input())  # Size of the square matrix\n",
    "arr = [list(map(int, input().split())) for _ in range(n)]  # Read matrix"
   ]
  },
  {
   "cell_type": "code",
   "execution_count": 4,
   "id": "3fd03d8c-69bf-4b4d-8243-fd8e7898f297",
   "metadata": {},
   "outputs": [
    {
     "name": "stdout",
     "output_type": "stream",
     "text": [
      "15\n"
     ]
    }
   ],
   "source": [
    "print(diagonalDifference(arr))"
   ]
  },
  {
   "cell_type": "markdown",
   "id": "53c05bc8-3a79-48e9-a930-4c42da793b12",
   "metadata": {},
   "source": [
    "#### Given an array of integers, calculate the ratios of its elements that are positive, negative, and zero. Print the decimal value of each fraction on a new line with  places after the decimal."
   ]
  },
  {
   "cell_type": "code",
   "execution_count": 5,
   "id": "7453727a-f243-4545-9b81-c9a9f9a91289",
   "metadata": {},
   "outputs": [],
   "source": [
    "def plusMinus(arr):\n",
    "    n = len(arr)\n",
    "    pos = sum(1 for x in arr if x > 0)\n",
    "    neg = sum(1 for x in arr if x < 0)\n",
    "    zero = sum(1 for x in arr if x == 0)\n",
    "    print(f\"{pos / n: .6f}\")\n",
    "    print(f\"{neg / n: .6f}\")\n",
    "    print(f\"{zero / n: .6f}\")"
   ]
  },
  {
   "cell_type": "code",
   "execution_count": 6,
   "id": "ad64ee1c-3ec4-494d-9f27-d46ee6549a88",
   "metadata": {},
   "outputs": [
    {
     "name": "stdin",
     "output_type": "stream",
     "text": [
      " 6\n",
      " -4 3 -9 0 4 1\n"
     ]
    }
   ],
   "source": [
    "n = int(input())  # Size of the array\n",
    "arr = list(map(int, input().split()))  # Read array elements"
   ]
  },
  {
   "cell_type": "code",
   "execution_count": 7,
   "id": "a373ed78-0961-4db8-b254-c0ff7341fa8a",
   "metadata": {},
   "outputs": [
    {
     "name": "stdout",
     "output_type": "stream",
     "text": [
      " 0.500000\n",
      " 0.333333\n",
      " 0.166667\n"
     ]
    }
   ],
   "source": [
    "plusMinus(arr)"
   ]
  },
  {
   "cell_type": "code",
   "execution_count": null,
   "id": "d0310895-795b-4ed7-adcb-dd171598cfa7",
   "metadata": {},
   "outputs": [],
   "source": []
  }
 ],
 "metadata": {
  "kernelspec": {
   "display_name": "Python 3 (ipykernel)",
   "language": "python",
   "name": "python3"
  },
  "language_info": {
   "codemirror_mode": {
    "name": "ipython",
    "version": 3
   },
   "file_extension": ".py",
   "mimetype": "text/x-python",
   "name": "python",
   "nbconvert_exporter": "python",
   "pygments_lexer": "ipython3",
   "version": "3.12.3"
  }
 },
 "nbformat": 4,
 "nbformat_minor": 5
}
