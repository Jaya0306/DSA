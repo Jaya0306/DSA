{
 "cells": [
  {
   "cell_type": "raw",
   "id": "d390a50c-e9fa-4b50-b4e9-ed3b6d37ba58",
   "metadata": {},
   "source": [
    "help(str)"
   ]
  },
  {
   "cell_type": "markdown",
   "id": "ff2ef6fc-4d21-4086-ba60-af268b5f26fa",
   "metadata": {},
   "source": [
    "# 1. Revrsing a string "
   ]
  },
  {
   "cell_type": "code",
   "execution_count": 2,
   "id": "ed8ecf1c-7685-4212-9050-1f3313eb4a64",
   "metadata": {},
   "outputs": [],
   "source": [
    "string = \"Python Programming\""
   ]
  },
  {
   "cell_type": "code",
   "execution_count": 3,
   "id": "98c84659-5dbd-4bf0-93b6-5ce2b64912b2",
   "metadata": {},
   "outputs": [
    {
     "name": "stdout",
     "output_type": "stream",
     "text": [
      "gnimmargorP nohtyP\n"
     ]
    }
   ],
   "source": [
    "print(string[::-1])"
   ]
  },
  {
   "cell_type": "markdown",
   "id": "ea31b270-812b-45da-aa6d-579ca58ad877",
   "metadata": {},
   "source": [
    "# 2.Counting vowels in a given Word"
   ]
  },
  {
   "cell_type": "code",
   "execution_count": 4,
   "id": "de15cb08-bd9c-4908-bb31-d6f2f16bb891",
   "metadata": {},
   "outputs": [
    {
     "name": "stdout",
     "output_type": "stream",
     "text": [
      "3\n"
     ]
    }
   ],
   "source": [
    "vowel = ['a','e','i','o','u']\n",
    "word = \"programming\"\n",
    "count = 0\n",
    "for character in word:\n",
    "    if character in vowel:\n",
    "        count += 1\n",
    "print(count)"
   ]
  },
  {
   "cell_type": "markdown",
   "id": "8852d8dc-8556-4d1c-963e-352bce452c96",
   "metadata": {},
   "source": [
    "# 3.Counting consonants in a given word"
   ]
  },
  {
   "cell_type": "code",
   "execution_count": 5,
   "id": "0036bee8-6ef2-4f63-a00b-d397e76dfad3",
   "metadata": {},
   "outputs": [
    {
     "name": "stdout",
     "output_type": "stream",
     "text": [
      "8\n"
     ]
    }
   ],
   "source": [
    "vowel = ['a','e','i','o','u']\n",
    "word = \"programming\"\n",
    "count = 0\n",
    "for character in word:\n",
    "    if character not in vowel:\n",
    "        count += 1\n",
    "print(count)"
   ]
  },
  {
   "cell_type": "markdown",
   "id": "75e56325-3922-4356-aa78-822ecaf21976",
   "metadata": {},
   "source": [
    "# 4.Converting a list into a string"
   ]
  },
  {
   "cell_type": "code",
   "execution_count": 6,
   "id": "330a3a92-1e00-4364-961c-d61c4e5877bc",
   "metadata": {},
   "outputs": [
    {
     "name": "stdout",
     "output_type": "stream",
     "text": [
      "PYTHON\n",
      "<class 'str'>\n"
     ]
    }
   ],
   "source": [
    "l = ['P','Y','T','H','O','N']\n",
    "string = \"\".join(l)\n",
    "\n",
    "print(string)\n",
    "print(type(string))"
   ]
  },
  {
   "cell_type": "markdown",
   "id": "a8b781e8-73d2-4a85-893e-0aaf21c4998b",
   "metadata": {},
   "source": [
    "# 5.Comparing Two Strings for ANAGRAMS"
   ]
  },
  {
   "cell_type": "markdown",
   "id": "7261841a-095f-4cbd-af12-402981213230",
   "metadata": {},
   "source": [
    "An anagram is a word or phrase formed by rearranging the letters of another word or phrase, using all the original letters exactly once. Anagrams typically ignore spaces, punctuation, and capitalization.\n",
    "\n",
    "Examples of Anagrams\n",
    "\"listen\" and \"silent\"\n",
    "\"evil\" and \"vile\""
   ]
  },
  {
   "cell_type": "code",
   "execution_count": 1,
   "id": "fc7016e0-715a-45ba-9404-a41b9a561bbb",
   "metadata": {},
   "outputs": [],
   "source": [
    "str1 = \"aab\"\n",
    "str2 = \"Silent\""
   ]
  },
  {
   "cell_type": "code",
   "execution_count": 2,
   "id": "c93bc4e3-f53d-44d8-85c6-a85dfbe11a4f",
   "metadata": {},
   "outputs": [
    {
     "name": "stdout",
     "output_type": "stream",
     "text": [
      "AAB\n",
      "['A', 'A', 'B']\n"
     ]
    }
   ],
   "source": [
    "str1 = str1.replace(\" \",\"\").upper()\n",
    "str2 = str2.replace(\" \",\"\").upper()\n",
    "print(str1)\n",
    "print(sorted(str1))"
   ]
  },
  {
   "cell_type": "code",
   "execution_count": 3,
   "id": "22b4fa39-0f91-496f-8387-15dc0fa8a0dc",
   "metadata": {},
   "outputs": [
    {
     "name": "stdout",
     "output_type": "stream",
     "text": [
      "False\n"
     ]
    }
   ],
   "source": [
    "if sorted(str1) == sorted(str2):\n",
    "    print(\"True\")\n",
    "else:\n",
    "    print(\"False\")"
   ]
  },
  {
   "cell_type": "markdown",
   "id": "6d75b63d-6549-433e-be5e-813b65f5174b",
   "metadata": {},
   "source": [
    "# 6.Given an array of strings, group all anagrams together.The solution must handle the follwoing complexities:\n",
    "* Case sensitivity:Treat upper and lower case letters as distinct\n",
    "* Empty Strings:Handle strings as seperate anagrams\n",
    "* Large Input size: The input can be up to 10^5 stings,each having a maximum length of 100"
   ]
  },
  {
   "cell_type": "code",
   "execution_count": 10,
   "id": "0aac8eac-cfd6-4394-8463-a8eae436d195",
   "metadata": {},
   "outputs": [],
   "source": [
    "from collections import defaultdict\n",
    "\n",
    "def group_anagrams(strs):\n",
    "    # Dictionary to hold grouped anagrams\n",
    "    anagram_map = defaultdict(list)\n",
    "    \n",
    "    # Iterate through each string\n",
    "    for s in strs:\n",
    "        # Sort the string and use the sorted string as the key\n",
    "        sorted_str = ''.join(sorted(s))\n",
    "        \n",
    "        # Append the original string to the corresponding list in the dictionary\n",
    "        anagram_map[sorted_str].append(s)\n",
    "    \n",
    "    # Return all grouped anagrams\n",
    "    return list(anagram_map.values())"
   ]
  },
  {
   "cell_type": "markdown",
   "id": "36c7ea68-2cf5-439f-a04a-0ebc17b60426",
   "metadata": {},
   "source": [
    "* defaultdict: This is a subclass of Python's built-in dict class. It overrides the behavior of dictionary key lookup. If you try to access a key that doesn't exist in the dictionary, it automatically creates a new value for that key based on the default factory function you provide (in this case, list)\n",
    "* list as the Default Factory: This means that every time you access a key that doesn’t exist, Python will automatically initialize it with an empty list. This is useful when you're grouping or accumulating values under keys, as it prevents you from having to manually check whether a key is already present and initializing it"
   ]
  },
  {
   "cell_type": "code",
   "execution_count": 11,
   "id": "32a8c699-2fd6-4d25-8fcf-a226cd9e543c",
   "metadata": {},
   "outputs": [
    {
     "name": "stdout",
     "output_type": "stream",
     "text": [
      "[['eat', 'tea', 'ate'], ['tan', 'nat'], ['bat'], ['']]\n"
     ]
    }
   ],
   "source": [
    "input_strings = [\"eat\", \"tea\", \"tan\", \"ate\", \"nat\", \"bat\",\"\"]\n",
    "result = group_anagrams(input_strings)\n",
    "print(result)"
   ]
  },
  {
   "cell_type": "markdown",
   "id": "30d363a7-2a1a-4eb8-9d50-48d96d38ff90",
   "metadata": {},
   "source": [
    "# 7.Write a function to check if a string containing just the characters(,),{,},[ and ] is balanced .A string is balanced if:\n",
    "* open brackets are closed by the same type of brackets.\n",
    "* open brackets are closed in the correct order."
   ]
  },
  {
   "cell_type": "code",
   "execution_count": 12,
   "id": "6e6a07cb-a59b-47db-a557-8262b11153eb",
   "metadata": {},
   "outputs": [],
   "source": [
    "def is_balanced(s):\n",
    "    # Stack to keep track of opening brackets\n",
    "    stack = []\n",
    "    \n",
    "    # Mapping of closing brackets to opening brackets\n",
    "    bracket_map = {')': '(', '}': '{', ']': '['}\n",
    "    \n",
    "    # Iterate through each character in the string\n",
    "    for char in s:\n",
    "        if char in bracket_map.values():  # If it's an opening bracket\n",
    "            stack.append(char)\n",
    "        elif char in bracket_map.keys():  # If it's a closing bracket\n",
    "            # Check if the stack is empty or top of stack doesn't match\n",
    "            if not stack or stack[-1] != bracket_map[char]:\n",
    "                return False\n",
    "            # Pop the top of the stack if the brackets match\n",
    "            stack.pop()\n",
    "    \n",
    "    # If the stack is empty, all opening brackets had matching closing brackets\n",
    "    return len(stack) == 0"
   ]
  },
  {
   "cell_type": "code",
   "execution_count": 13,
   "id": "04063c53-960a-4dca-ba94-5b490185e7b4",
   "metadata": {},
   "outputs": [
    {
     "name": "stdout",
     "output_type": "stream",
     "text": [
      "True\n",
      "True\n",
      "False\n",
      "False\n",
      "True\n",
      "True\n"
     ]
    }
   ],
   "source": [
    "print(is_balanced(\"()\"))            \n",
    "print(is_balanced(\"()[]{}\"))        \n",
    "print(is_balanced(\"(]\"))            \n",
    "print(is_balanced(\"([)]\"))         \n",
    "print(is_balanced(\"{[]}\"))         \n",
    "print(is_balanced(\"\"))    "
   ]
  }
 ],
 "metadata": {
  "kernelspec": {
   "display_name": "Python 3 (ipykernel)",
   "language": "python",
   "name": "python3"
  },
  "language_info": {
   "codemirror_mode": {
    "name": "ipython",
    "version": 3
   },
   "file_extension": ".py",
   "mimetype": "text/x-python",
   "name": "python",
   "nbconvert_exporter": "python",
   "pygments_lexer": "ipython3",
   "version": "3.12.3"
  }
 },
 "nbformat": 4,
 "nbformat_minor": 5
}
