{
 "cells": [
  {
   "cell_type": "markdown",
   "id": "5b03578f-d184-491d-8c91-a7ead05031ac",
   "metadata": {},
   "source": [
    "Two words are anagrams of one another if their letters can be rearranged to form the other word.\n",
    "\n",
    "Given a string, split it into two contiguous substrings of equal length. Determine the minimum number of characters to change to make the two substrings into anagrams of one another."
   ]
  },
  {
   "cell_type": "code",
   "execution_count": 1,
   "id": "d9b93a4f-b9a6-4ad5-af45-2875df55453b",
   "metadata": {},
   "outputs": [],
   "source": [
    "from collections import Counter\n",
    "\n",
    "def anagram(s):\n",
    "    if len(s) % 2 != 0:\n",
    "        return -1\n",
    "    mid = len(s) // 2\n",
    "    s1 = s[:mid]\n",
    "    s2 = s[mid:]\n",
    "    count_s1 = Counter(s1)\n",
    "    count_s2 = Counter(s2)\n",
    "    difference = count_s1 - count_s2\n",
    "    return sum(difference.values())"
   ]
  },
  {
   "cell_type": "code",
   "execution_count": 2,
   "id": "109aa8da-56f2-409c-9e8e-ef863ebd537d",
   "metadata": {},
   "outputs": [
    {
     "name": "stdin",
     "output_type": "stream",
     "text": [
      " 6\n",
      " aaabbb\n"
     ]
    },
    {
     "name": "stdout",
     "output_type": "stream",
     "text": [
      "3\n"
     ]
    },
    {
     "name": "stdin",
     "output_type": "stream",
     "text": [
      " ab\n"
     ]
    },
    {
     "name": "stdout",
     "output_type": "stream",
     "text": [
      "1\n"
     ]
    },
    {
     "name": "stdin",
     "output_type": "stream",
     "text": [
      " abc\n"
     ]
    },
    {
     "name": "stdout",
     "output_type": "stream",
     "text": [
      "-1\n"
     ]
    },
    {
     "name": "stdin",
     "output_type": "stream",
     "text": [
      " mnop\n"
     ]
    },
    {
     "name": "stdout",
     "output_type": "stream",
     "text": [
      "2\n"
     ]
    },
    {
     "name": "stdin",
     "output_type": "stream",
     "text": [
      " xyyx\n"
     ]
    },
    {
     "name": "stdout",
     "output_type": "stream",
     "text": [
      "0\n"
     ]
    },
    {
     "name": "stdin",
     "output_type": "stream",
     "text": [
      " xaxbbbxx\n"
     ]
    },
    {
     "name": "stdout",
     "output_type": "stream",
     "text": [
      "1\n"
     ]
    }
   ],
   "source": [
    "t = int(input())  # Number of test cases\n",
    "for _ in range(t):\n",
    "    s = input().strip()\n",
    "    print(anagram(s))"
   ]
  },
  {
   "cell_type": "markdown",
   "id": "f69fa506-4747-41e8-87d5-78244df300e3",
   "metadata": {},
   "source": [
    "We consider two strings to be anagrams of each other if the first string's letters can be rearranged to form the second string. In other words, both strings must contain the same exact letters in the same exact frequency. For example, bacdc and dcbac are anagrams, but bacdc and dcbad are not.\n",
    "\n",
    "Alice is taking a cryptography class and finding anagrams to be very useful. She decides on an encryption scheme involving two large strings where encryption is dependent on the minimum number of character deletions required to make the two strings anagrams. Can you help her find this number?\n",
    "\n",
    "Given two strings,  and , that may not be of the same length, determine the minimum number of character deletions required to make  and  anagrams. Any characters can be deleted from either of the strings.\n",
    "\n",
    "Example.\n",
    "s1 = abc,\n",
    "s2 = amnop\n",
    "\n",
    "The only characters that match are the a's so we have to remove 'bc' from s1 and 'mnop' from s2 for a total of 6 deletions."
   ]
  },
  {
   "cell_type": "code",
   "execution_count": 3,
   "id": "faf3bd5b-56c6-4537-8d25-522e7ebf6b3a",
   "metadata": {},
   "outputs": [],
   "source": [
    "from collections import Counter\n",
    "\n",
    "def makingAnagrams(s1, s2):\n",
    "    count_s1 = Counter(s1)\n",
    "    count_s2 = Counter(s2)\n",
    "    differece = (count_s1 - count_s2) + (count_s2 - count_s1)\n",
    "    return sum(differece.values())"
   ]
  },
  {
   "cell_type": "code",
   "execution_count": 4,
   "id": "ab58d7c1-1f01-4b68-a0e9-28756faa3992",
   "metadata": {},
   "outputs": [
    {
     "name": "stdin",
     "output_type": "stream",
     "text": [
      " abc\n",
      " amnop\n"
     ]
    }
   ],
   "source": [
    "s1 = input().strip()\n",
    "s2 = input().strip()"
   ]
  },
  {
   "cell_type": "code",
   "execution_count": 5,
   "id": "ebdcfe1f-dab9-4942-ba24-4fedb1fbe4af",
   "metadata": {},
   "outputs": [
    {
     "name": "stdout",
     "output_type": "stream",
     "text": [
      "6\n"
     ]
    }
   ],
   "source": [
    "print(makingAnagrams(s1, s2))"
   ]
  }
 ],
 "metadata": {
  "kernelspec": {
   "display_name": "Python 3 (ipykernel)",
   "language": "python",
   "name": "python3"
  },
  "language_info": {
   "codemirror_mode": {
    "name": "ipython",
    "version": 3
   },
   "file_extension": ".py",
   "mimetype": "text/x-python",
   "name": "python",
   "nbconvert_exporter": "python",
   "pygments_lexer": "ipython3",
   "version": "3.12.3"
  }
 },
 "nbformat": 4,
 "nbformat_minor": 5
}
